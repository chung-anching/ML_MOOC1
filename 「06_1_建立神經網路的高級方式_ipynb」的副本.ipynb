{
  "nbformat": 4,
  "nbformat_minor": 0,
  "metadata": {
    "kernelspec": {
      "display_name": "Python [conda env:tf2py38]",
      "language": "python",
      "name": "conda-env-tf2py38-py"
    },
    "language_info": {
      "codemirror_mode": {
        "name": "ipython",
        "version": 3
      },
      "file_extension": ".py",
      "mimetype": "text/x-python",
      "name": "python",
      "nbconvert_exporter": "python",
      "pygments_lexer": "ipython3",
      "version": "3.8.8"
    },
    "colab": {
      "name": "「06-1. 建立神經網路的高級方式.ipynb」的副本",
      "provenance": []
    }
  },
  "cells": [
    {
      "cell_type": "markdown",
      "metadata": {
        "id": "pTkzbYh53sMd"
      },
      "source": [
        "# 單元 06-1. 使用 Model Functional API 建立各種非線性堆疊網路\n",
        "\n",
        "【註】因 TensorFlow 2 已做了一些改變, 例如完全整合了 Keras。到 2021 年的今天, 有一些細節也做了調整。因此我們依新的規範修改了程式。最大的不同是, 以後大家直接安裝 tensorflow 即可, 不用再另外裝 keras。\n",
        "\n",
        "讓我們回顧一下生命中第一個做出來的神經網路..."
      ]
    },
    {
      "cell_type": "markdown",
      "metadata": {
        "id": "pmLz77Fi3sMe"
      },
      "source": [
        "## 1. 初始準備"
      ]
    },
    {
      "cell_type": "code",
      "metadata": {
        "id": "5JJ-JYDN3sMf"
      },
      "source": [
        "%matplotlib inline\n",
        "import numpy as np\n",
        "import matplotlib.pyplot as plt"
      ],
      "execution_count": null,
      "outputs": []
    },
    {
      "cell_type": "code",
      "metadata": {
        "id": "Nq2fBRSY3sMf"
      },
      "source": [
        "# tf.Keras functions\n",
        "from tensorflow.keras.models import Sequential\n",
        "from tensorflow.keras.layers import Dense, Activation\n",
        "from tensorflow.keras.optimizers import SGD\n",
        "\n",
        "# tf.Keras dataset\n",
        "from tensorflow.keras.datasets import mnist\n",
        "\n",
        "# tf.Keras utilis function\n",
        "from tensorflow.keras.utils import to_categorical"
      ],
      "execution_count": null,
      "outputs": []
    },
    {
      "cell_type": "markdown",
      "metadata": {
        "id": "fuzpOaN13sMg"
      },
      "source": [
        "讀取 MNIST 手寫辨識資料"
      ]
    },
    {
      "cell_type": "code",
      "metadata": {
        "id": "ZsTTC8FM3sMg"
      },
      "source": [
        "(x_train, y_train), (x_test, y_test) = mnist.load_data()"
      ],
      "execution_count": null,
      "outputs": []
    },
    {
      "cell_type": "code",
      "metadata": {
        "id": "SNAhe09M3sMg"
      },
      "source": [
        "x_train = x_train.reshape(60000, 784)/255\n",
        "x_test = x_test.reshape(10000, 784)/255"
      ],
      "execution_count": null,
      "outputs": []
    },
    {
      "cell_type": "code",
      "metadata": {
        "id": "NngkMrqH3sMh",
        "outputId": "9046a284-1daf-495e-fd44-744a72b34972"
      },
      "source": [
        "print(x_train.shape, x_test.shape)"
      ],
      "execution_count": null,
      "outputs": [
        {
          "output_type": "stream",
          "text": [
            "(60000, 784) (10000, 784)\n"
          ],
          "name": "stdout"
        }
      ]
    },
    {
      "cell_type": "code",
      "metadata": {
        "id": "RDk9bLIy3sMh"
      },
      "source": [
        "y_train = to_categorical(y_train, 10)\n",
        "y_test = to_categorical(y_test, 10)"
      ],
      "execution_count": null,
      "outputs": []
    },
    {
      "cell_type": "markdown",
      "metadata": {
        "id": "fL3PFgJA3sMi"
      },
      "source": [
        "## 2. Model Functional API"
      ]
    },
    {
      "cell_type": "markdown",
      "metadata": {
        "id": "WMS7XPdK3sMi"
      },
      "source": [
        "在此之前，我們使用 Sequential 便足以建構大多數的神經網路，那是因為我們接觸的神經網路多為線性堆疊 (linear stack)。\n",
        "\n",
        "除了輸入層需指定 `input_dim` 外，其餘隱藏層只需宣告，那是因為 Sequential 會認定上一層的輸出這一層的輸入。\n",
        "\n",
        "因此，再建構線性堆疊的神經網路時，Sequential 便足以處理。"
      ]
    },
    {
      "cell_type": "markdown",
      "metadata": {
        "id": "Tz6TaW-43sMi"
      },
      "source": [
        "### 2.1 Functional API 的使用時機"
      ]
    },
    {
      "cell_type": "markdown",
      "metadata": {
        "id": "blhZps0Q3sMj"
      },
      "source": [
        "當神經網路模型為非線性的複雜網路結構，如：\n",
        "\n",
        "* 多重輸出-多重輸入模型 (Multi-input and multi-output models)\n",
        "  + 分歧 (branch)\n",
        "  + 合併 (merge)\n",
        "* 具重複/循環結構的模型，如: CycleGAN\n",
        "\n",
        "Sequential 便不足以建構這類複雜結構的神經網路，我們以下介紹 `Model` Fnuctional API 的使用。"
      ]
    },
    {
      "cell_type": "markdown",
      "metadata": {
        "id": "XrObrnVn3sMj"
      },
      "source": [
        "首先，我們先將 `Model` 引入。"
      ]
    },
    {
      "cell_type": "code",
      "metadata": {
        "id": "3XH5yda83sMj"
      },
      "source": [
        "from tensorflow.keras.models import Model"
      ],
      "execution_count": null,
      "outputs": []
    },
    {
      "cell_type": "markdown",
      "metadata": {
        "id": "w2OgqPk33sMj"
      },
      "source": [
        "在 `Model` 的世界中，所有的神經網路層 (fully-connected, convolution, MaxPooling, LSTM, etc) 都被視作函數來操作，因此，我們只需關心函數的輸入和輸出即可。\n",
        "\n",
        "此外，為了讓神經網路的第一層從不需要輸入 `input_dim`，我們還需引進下面這個函數來代替 `input_dim`。 (此寫法亦可用在 `Sequential`)"
      ]
    },
    {
      "cell_type": "code",
      "metadata": {
        "id": "O0Em59-g3sMj"
      },
      "source": [
        "from tensorflow.keras.layers import Input  #把輸入層讀進來"
      ],
      "execution_count": null,
      "outputs": []
    },
    {
      "cell_type": "markdown",
      "metadata": {
        "id": "D1XhdM0N3sMj"
      },
      "source": [
        "### 2.2 Functional API 的函數概念"
      ]
    },
    {
      "cell_type": "markdown",
      "metadata": {
        "id": "5w_KhANx3sMk"
      },
      "source": [
        "回顧一下，我們想學習的手寫辨識模型是一個長得像這樣的函數\n",
        "\n",
        "$$\\hat{f} \\colon \\mathbb{R}^{784} \\to \\mathbb{R}^{10}$$\n",
        "\n",
        "我們希望建立一個具有兩個隱藏層的神經網路來學習這個函數，攤開來看的話，如下：\n",
        "\n",
        "$$\\mathbb{R}^{784} \\overset{f_1}{\\to} \\mathbb{R}^{500} \\overset{f_2}{\\to} \\mathbb{R}^{500} \\overset{f_3}{\\to} \\mathbb{R}^{10}$$\n",
        "\n",
        "$$x \\overset{f_1}{\\mapsto} h_1 \\overset{f_2}{\\mapsto} h_2 \\overset{f_3}{\\mapsto} y$$\n",
        "\n",
        "\n",
        "或是以簡易的圖來表示這個全連接神經網路\n",
        "\n",
        "<img src=\"https://github.com/yenlung/Deep-Learning-MOOC/blob/master/plain_model.png?raw=1\" alt=\"drawing\" style=\"width: 400px;\"/>\n",
        "\n",
        "其中，$f_1, f_2, f_3$ 代表的是全連結層所代表的函數，其他變數說明如下：\n",
        "\n",
        "* $x$: 代表的是輸入模型的圖片向量，為 784 維的向量。\n",
        "* $h_1$: $x$ 經過第一層隱藏層運算後得結果，即為 $f_1(x)$，為 500 維的向量。\n",
        "* $h_2$: $h_1$ 經過第二層隱藏層運算後得結果，即為 $f_2(h_1)$，為 500 維的向量。\n",
        "* $y$: $h_2$ 經過最後一層運算後得結果，即為 $f_3(h_2)$，為 10 維的向量，代表的是 $x$ 為哪個數字的機率。\n",
        "\n",
        "注意: 為了方便，我們將 `Dense(500)`, `Activation('sigmoid')` 兩個合併用 `Dense(500, activation='sigmoid')` 表示"
      ]
    },
    {
      "cell_type": "markdown",
      "metadata": {
        "id": "e7D-khJm3sMk"
      },
      "source": [
        "### 2.3 Functional API 的操作方式"
      ]
    },
    {
      "cell_type": "markdown",
      "metadata": {
        "id": "QinZ-2-h3sMk"
      },
      "source": [
        "我們沿用上圖的變數名稱來定義"
      ]
    },
    {
      "cell_type": "code",
      "metadata": {
        "id": "EahF0-wF3sMk"
      },
      "source": [
        "#定義函數\n",
        "f_1 = Dense(500, activation='sigmoid')\n",
        "f_2 = Dense(500, activation='sigmoid')\n",
        "f_3 = Dense(10, activation='softmax')"
      ],
      "execution_count": null,
      "outputs": []
    },
    {
      "cell_type": "code",
      "metadata": {
        "id": "y_ZSBfbL3sMk",
        "outputId": "098c3ccf-92d4-445e-a7d8-762cc52be307"
      },
      "source": [
        "print(f_1)"
      ],
      "execution_count": null,
      "outputs": [
        {
          "output_type": "stream",
          "text": [
            "<tensorflow.python.keras.layers.core.Dense object at 0x7f68c97fa5e0>\n"
          ],
          "name": "stdout"
        }
      ]
    },
    {
      "cell_type": "markdown",
      "metadata": {
        "id": "d5lacC763sMk"
      },
      "source": [
        "接著，定義層前後變數之間的關係；首先，第一個變數必定以 `Input` 函數來定義"
      ]
    },
    {
      "cell_type": "code",
      "metadata": {
        "id": "dx9fScTj3sMl"
      },
      "source": [
        "x = Input(shape=(784,))"
      ],
      "execution_count": null,
      "outputs": []
    },
    {
      "cell_type": "code",
      "metadata": {
        "id": "2v7W83Vz3sMl",
        "outputId": "9abe9510-7f51-43d7-c3f0-f96e3cad8a42"
      },
      "source": [
        "print(x)"
      ],
      "execution_count": null,
      "outputs": [
        {
          "output_type": "stream",
          "text": [
            "KerasTensor(type_spec=TensorSpec(shape=(None, 784), dtype=tf.float32, name='input_1'), name='input_1', description=\"created by layer 'input_1'\")\n"
          ],
          "name": "stdout"
        }
      ]
    },
    {
      "cell_type": "markdown",
      "metadata": {
        "id": "XAb8tpyw3sMl"
      },
      "source": [
        "剩下的部分，就如變數說明，**幾乎**可以照著數學式輸入 $$h_1 = f_1(x), h_2 = f_2(h_1), y = f_3(h_2)$$"
      ]
    },
    {
      "cell_type": "code",
      "metadata": {
        "id": "Fezh5UNn3sMl"
      },
      "source": [
        "h_1 = f_1(x)\n",
        "h_2 = f_2(h_1)\n",
        "y = f_3(h_2)"
      ],
      "execution_count": null,
      "outputs": []
    },
    {
      "cell_type": "markdown",
      "metadata": {
        "id": "V0ZN2Jit3sMl"
      },
      "source": [
        "在這裡，變數 $h_1, h_2, y$ 是以張量 (tensor) 類別來表示，我們可以嘗試 `print` 看看。"
      ]
    },
    {
      "cell_type": "code",
      "metadata": {
        "id": "UpTUz83H3sMl",
        "outputId": "c83a9dd6-bd7c-4644-a465-41b1a5bb1838"
      },
      "source": [
        "print(h_1)\n",
        "print(h_2)\n",
        "print(y)"
      ],
      "execution_count": null,
      "outputs": [
        {
          "output_type": "stream",
          "text": [
            "KerasTensor(type_spec=TensorSpec(shape=(None, 500), dtype=tf.float32, name=None), name='dense/Sigmoid:0', description=\"created by layer 'dense'\")\n",
            "KerasTensor(type_spec=TensorSpec(shape=(None, 500), dtype=tf.float32, name=None), name='dense_1/Sigmoid:0', description=\"created by layer 'dense_1'\")\n",
            "KerasTensor(type_spec=TensorSpec(shape=(None, 10), dtype=tf.float32, name=None), name='dense_2/Softmax:0', description=\"created by layer 'dense_2'\")\n"
          ],
          "name": "stdout"
        }
      ]
    },
    {
      "cell_type": "markdown",
      "metadata": {
        "id": "RjzoBpiK3sMl"
      },
      "source": [
        "接著，透過 `Model` 將一個模型的輸入/輸出包裝起來，建立模型的過程就完成了！\n",
        "(模型變數=Model(輸入層,輸出的張量)"
      ]
    },
    {
      "cell_type": "code",
      "metadata": {
        "id": "ZaZeUi7Y3sMl",
        "outputId": "dd69a2a1-3188-4286-d523-9cedc53e2a5b"
      },
      "source": [
        "model = Model(x, y)\n",
        "model.summary()\n",
        "#(activation1l 包在dense裡面，所以少了幾行)"
      ],
      "execution_count": null,
      "outputs": [
        {
          "output_type": "stream",
          "text": [
            "Model: \"model\"\n",
            "_________________________________________________________________\n",
            "Layer (type)                 Output Shape              Param #   \n",
            "=================================================================\n",
            "input_1 (InputLayer)         [(None, 784)]             0         \n",
            "_________________________________________________________________\n",
            "dense (Dense)                (None, 500)               392500    \n",
            "_________________________________________________________________\n",
            "dense_1 (Dense)              (None, 500)               250500    \n",
            "_________________________________________________________________\n",
            "dense_2 (Dense)              (None, 10)                5010      \n",
            "=================================================================\n",
            "Total params: 648,010\n",
            "Trainable params: 648,010\n",
            "Non-trainable params: 0\n",
            "_________________________________________________________________\n"
          ],
          "name": "stdout"
        }
      ]
    },
    {
      "cell_type": "markdown",
      "metadata": {
        "id": "o_xEvjAU3sMm"
      },
      "source": [
        "一樣的，當模型 compile 之後，便可以進行資料的訓練、預測等等，請有興趣的同學讀入 MNIST 手寫辨識之料後，自行完成這個模型的訓練。"
      ]
    },
    {
      "cell_type": "code",
      "metadata": {
        "id": "BzBOqF9-3sMm"
      },
      "source": [
        "model.compile(loss='mse', optimizer=SGD(learning_rate=0.1), metrics=['accuracy'])"
      ],
      "execution_count": null,
      "outputs": []
    },
    {
      "cell_type": "code",
      "metadata": {
        "id": "NtoKz-Uv3sMm",
        "outputId": "42aeeec4-290f-4c47-9b53-73923096c4b0"
      },
      "source": [
        "model.fit(x_train, y_train, batch_size=100, epochs=5)"
      ],
      "execution_count": null,
      "outputs": [
        {
          "output_type": "stream",
          "text": [
            "Epoch 1/5\n",
            "600/600 [==============================] - 1s 1ms/step - loss: 0.0905 - accuracy: 0.1271\n",
            "Epoch 2/5\n",
            "600/600 [==============================] - 1s 1ms/step - loss: 0.0895 - accuracy: 0.1445\n",
            "Epoch 3/5\n",
            "600/600 [==============================] - 1s 1ms/step - loss: 0.0891 - accuracy: 0.2108\n",
            "Epoch 4/5\n",
            "600/600 [==============================] - 1s 1ms/step - loss: 0.0886 - accuracy: 0.2100\n",
            "Epoch 5/5\n",
            "600/600 [==============================] - 1s 1ms/step - loss: 0.0881 - accuracy: 0.2510\n"
          ],
          "name": "stdout"
        },
        {
          "output_type": "execute_result",
          "data": {
            "text/plain": [
              "<tensorflow.python.keras.callbacks.History at 0x7f68ac033100>"
            ]
          },
          "metadata": {
            "tags": []
          },
          "execution_count": 17
        }
      ]
    },
    {
      "cell_type": "markdown",
      "metadata": {
        "id": "zVbZMyB63sMm"
      },
      "source": [
        "雖然 summary 少了很多東西，但模型架構和之前做的沒有差異，所以可以安心讀入之前訓練好的權重。"
      ]
    },
    {
      "cell_type": "code",
      "metadata": {
        "id": "FWjPgAt93sMm"
      },
      "source": [
        "model.load_weights('handwriting_model_weights.h5')"
      ],
      "execution_count": null,
      "outputs": []
    },
    {
      "cell_type": "code",
      "metadata": {
        "id": "44d7JNV23sMm",
        "outputId": "4998696f-37ff-41cc-e8ec-6cd98e286f75"
      },
      "source": [
        "model.evaluate(x_test, y_test)"
      ],
      "execution_count": null,
      "outputs": [
        {
          "output_type": "stream",
          "text": [
            "313/313 [==============================] - 0s 927us/step - loss: 0.0743 - accuracy: 0.3145\n"
          ],
          "name": "stdout"
        },
        {
          "output_type": "execute_result",
          "data": {
            "text/plain": [
              "[0.0742645263671875, 0.31450000405311584]"
            ]
          },
          "metadata": {
            "tags": []
          },
          "execution_count": 19
        }
      ]
    },
    {
      "cell_type": "markdown",
      "metadata": {
        "id": "XTwYiOeE3sMm"
      },
      "source": [
        "### 2.4 小結論\n",
        "Functional API 的操作流程如下：\n",
        "1. 將層定義成明確的函數\n",
        "2. 透過層函數將變數連接\n",
        "3. 定義神經網路的輸入與輸出\n",
        "\n",
        " (線性堆疊時: 用Functional API 取代Sequential的做法)"
      ]
    },
    {
      "cell_type": "markdown",
      "metadata": {
        "id": "3rpMZxfF3sMm"
      },
      "source": [
        "## 3 非線性堆疊模型"
      ]
    },
    {
      "cell_type": "markdown",
      "metadata": {
        "id": "HJNWDTgE3sMn"
      },
      "source": [
        "### 3.1 如果建立具分歧及合併結構的神經網路模型呢？"
      ]
    },
    {
      "cell_type": "code",
      "metadata": {
        "id": "UJpPqxdx3sMn"
      },
      "source": [
        "from tensorflow.keras.layers import concatenate, add  #合併結構的神經網路會使用到的"
      ],
      "execution_count": null,
      "outputs": []
    },
    {
      "cell_type": "markdown",
      "metadata": {
        "id": "Q45Aw34x3sMn"
      },
      "source": [
        "首先，假設我們希望在模型之間增加一個分歧，且這個分歧在模型的輸出會合併，則神經網路的結構會變成：\n",
        "\n",
        "<img src=\"https://github.com/yenlung/Deep-Learning-MOOC/blob/master/branch-and-merge.png?raw=1\" alt=\"drawing\" style=\"width: 400px;\"/>\n",
        "\n",
        "此模型為單一輸入、多重輸出的模型，是分歧模型最容易處理的一種。\n",
        "\n",
        "其中，$f_1, f_2$ 同之前，$f_4:\\mathbb{R}^{500}\\to\\mathbb{R}^{500}$ 的全連接層，但 `Activation` 改用 `ReLu`。\n",
        "\n",
        "需注意的是，由於 $f_3$ 的定義域改變，為 $\\mathbb{R}^{500}\\times\\mathbb{R}^{500}\\to\\mathbb{R}^{10}$ 函數，所以需要重新定義。\n",
        "\n",
        "* $x$: 代表的是輸入模型的圖片向量，為 784 維的向量。\n",
        "* $h_1$: $x$ 經過 $f_1$ 隱藏層運算後得結果，即為 $f_1(x)$，為 500 維的向量。\n",
        "* $h_2$: $h_1$ 經過 $f_2$ 隱藏層運算後得結果，即為 $f_2(h_1)$，為 500 維的向量。\n",
        "\n",
        "* $z$: $h_1$ 經過 $f_4$ 運算後得結果，即為 $f_4(h_1)$，為 500 維的向量。\n",
        "* $y$: $h_2$ 和 $z$ 經過新的 $f_3$ 運算後得結果，即為 $f_3(h_1, z)$，為 10 維的向量，代表的是 $x$ 為哪個數字的機率。"
      ]
    },
    {
      "cell_type": "markdown",
      "metadata": {
        "id": "h1fMtzEW3sMn"
      },
      "source": [
        "注意這裡的 input, $f_1$, $f_2$ 和以前是一樣的!"
      ]
    },
    {
      "cell_type": "code",
      "metadata": {
        "id": "V3tOougP3sMn"
      },
      "source": [
        "x = Input(shape=(784,))\n",
        "\n",
        "h_1 = f_1(x)\n",
        "h_2 = f_2(h_1)"
      ],
      "execution_count": null,
      "outputs": []
    },
    {
      "cell_type": "code",
      "metadata": {
        "id": "9SGwyNgG3sMn"
      },
      "source": [
        "f_4 = Dense(500, activation='relu')\n",
        "z = f_4(h_1)\n",
        "\n",
        "# new f_3\n",
        "f_3 = Dense(10, activation='softmax')"
      ],
      "execution_count": null,
      "outputs": []
    },
    {
      "cell_type": "markdown",
      "metadata": {
        "id": "gSRaHcDp3sMn"
      },
      "source": [
        "接著，再將 $y = f_3(h_1, z)$ 定義好，就會發現......"
      ]
    },
    {
      "cell_type": "code",
      "metadata": {
        "id": "9goqE-i73sMn"
      },
      "source": [
        "# 此段程式碼為錯誤範例 (因為一般functional api只吃一個tensor)\n",
        "y = f_3(h_2, z)"
      ],
      "execution_count": null,
      "outputs": []
    },
    {
      "cell_type": "markdown",
      "metadata": {
        "id": "1ioPun7S3sMo"
      },
      "source": [
        "聰明的你/妳，可能會想到，函數的寫法是一次送進一個變數，那我們將 $h_3$ 和 $z$ 寫成 `list` 的形式，應該就可以送進去 $f_3$ 了吧？"
      ]
    },
    {
      "cell_type": "code",
      "metadata": {
        "id": "x9JYhMLr3sMo"
      },
      "source": [
        "# 此段程式碼為錯誤範例 (tensor不能裝在list裡面)\n",
        "y = f_3([h_2, z])"
      ],
      "execution_count": null,
      "outputs": []
    },
    {
      "cell_type": "markdown",
      "metadata": {
        "id": "XcnfkjVR3sMo"
      },
      "source": [
        "會發現這樣也沒辦法成功。其實正確的作法是，先將 $h_2$ 與 $z$ 透過 `concatenate` 接在一起，再送進新的 $f_3$ 裡。"
      ]
    },
    {
      "cell_type": "markdown",
      "metadata": {
        "id": "_WCWwFzl3sMo"
      },
      "source": [
        "在這裡，我們將 $h_2$ 與 $z$ `concatenate` 接在一起，稱做 $u$。"
      ]
    },
    {
      "cell_type": "code",
      "metadata": {
        "id": "RCntvuLk3sMo"
      },
      "source": [
        "u = concatenate([h_2, z])\n",
        "y = f_3(u)"
      ],
      "execution_count": null,
      "outputs": []
    },
    {
      "cell_type": "code",
      "metadata": {
        "id": "BH9Auw6E3sMo",
        "outputId": "3ba1103d-ba95-4286-c228-214ec19aded6"
      },
      "source": [
        "print(u)\n",
        "print(y)"
      ],
      "execution_count": null,
      "outputs": [
        {
          "output_type": "stream",
          "text": [
            "KerasTensor(type_spec=TensorSpec(shape=(None, 1000), dtype=tf.float32, name=None), name='concatenate/concat:0', description=\"created by layer 'concatenate'\")\n",
            "KerasTensor(type_spec=TensorSpec(shape=(None, 10), dtype=tf.float32, name=None), name='dense_4/Softmax:0', description=\"created by layer 'dense_4'\")\n"
          ],
          "name": "stdout"
        }
      ]
    },
    {
      "cell_type": "markdown",
      "metadata": {
        "id": "xNRU6Gb13sMo"
      },
      "source": [
        "換句話說，模型其實是這樣畫的\n",
        "\n",
        "<img src=\"https://github.com/yenlung/Deep-Learning-MOOC/blob/master/branch-and-merge_final.png?raw=1\" alt=\"drawing\" style=\"width: 400px;\"/>\n",
        "\n",
        "其中，`concatenate` 是將不同的變數**接**在一起，這裡面並沒有進行任何涉及權重的運算。"
      ]
    },
    {
      "cell_type": "markdown",
      "metadata": {
        "id": "jKcGWXLY3sMo"
      },
      "source": [
        "再透過 `Model` 將模型的輸入和輸出包裝起來，即可將模型建構完成。"
      ]
    },
    {
      "cell_type": "code",
      "metadata": {
        "id": "Yj3nSRz93sMo",
        "outputId": "b3c0689a-215b-428e-b69a-49a3dad12e9f"
      },
      "source": [
        "model = Model(x, y)\n",
        "model.summary()"
      ],
      "execution_count": null,
      "outputs": [
        {
          "output_type": "stream",
          "text": [
            "Model: \"model_1\"\n",
            "__________________________________________________________________________________________________\n",
            "Layer (type)                    Output Shape         Param #     Connected to                     \n",
            "==================================================================================================\n",
            "input_2 (InputLayer)            [(None, 784)]        0                                            \n",
            "__________________________________________________________________________________________________\n",
            "dense (Dense)                   (None, 500)          392500      input_2[0][0]                    \n",
            "__________________________________________________________________________________________________\n",
            "dense_1 (Dense)                 (None, 500)          250500      dense[1][0]                      \n",
            "__________________________________________________________________________________________________\n",
            "dense_3 (Dense)                 (None, 500)          250500      dense[1][0]                      \n",
            "__________________________________________________________________________________________________\n",
            "concatenate (Concatenate)       (None, 1000)         0           dense_1[1][0]                    \n",
            "                                                                 dense_3[0][0]                    \n",
            "__________________________________________________________________________________________________\n",
            "dense_4 (Dense)                 (None, 10)           10010       concatenate[0][0]                \n",
            "==================================================================================================\n",
            "Total params: 903,510\n",
            "Trainable params: 903,510\n",
            "Non-trainable params: 0\n",
            "__________________________________________________________________________________________________\n"
          ],
          "name": "stdout"
        }
      ]
    },
    {
      "cell_type": "markdown",
      "metadata": {
        "id": "Cp4omNjp3sMp"
      },
      "source": [
        "### 3.2 小結論\n",
        "Branch-and-Merge 的注意要點如下：\n",
        "1. 每一層分別定義成函數\n",
        "2. 分歧結構: 實就是透過新的函數來定義新的變數，無特別注意事項。\n",
        "3. 合併結構: 要合併前，將所有要進入的變數都\"合併起來\"，才能進行之後的運算。\n",
        "\n",
        "常見應用:\n",
        "1. 多重輸入-多重輸出模型。\n",
        "2. 當層函數為 convolution 時，這樣的技巧可以實現 U-net 上的重要結構 multi-resolution fusion (多解析度融合，又稱 MRF)。\n",
        "3. ResNet 上的重要結構 skip connection (跳躍式傳遞)，亦可透過分歧-合併來實現，只是 ResNet 使用的是 `add` 而非 `concatenate`。"
      ]
    },
    {
      "cell_type": "markdown",
      "metadata": {
        "id": "m0uo7FYR3sMp"
      },
      "source": [
        "### 3.3 自定義的不具可訓練權重之神經網路層\n",
        "這裡，我們將進行這單元最後一個重要的神經網路建構技巧 - 自定義神經網路層 (不具可訓練權重)\n",
        "\n",
        "** 具有可訓練重的自定義層牽扯到 TensorFlow 及 Python 類別的撰寫，若有興趣可參考: https://keras.io/layers/writing-your-own-keras-layers/"
      ]
    },
    {
      "cell_type": "markdown",
      "metadata": {
        "id": "qrnYMXQW3sMp"
      },
      "source": [
        "首先，我們需要引入 `Lambda` 這個函數，透過 `Lambda` 函數，我們可以將 Python 上的 function，包裝成 Keras 上的 layer。\n",
        "\n",
        "此外，我們需要引進後端所使用的套件 (此處為 TensorFlow)，並使用裡面的運算進行 function 的撰寫。"
      ]
    },
    {
      "cell_type": "code",
      "metadata": {
        "id": "vEOR9ajh3sMp"
      },
      "source": [
        "from tensorflow.keras.layers import Lambda\n",
        "from tensorflow.keras import backend as K  #後端裡可以應用的東西"
      ],
      "execution_count": null,
      "outputs": []
    },
    {
      "cell_type": "markdown",
      "metadata": {
        "id": "EUU4cyIy3sMp"
      },
      "source": [
        "首先，我們透過 backend 來定義一個簡單的 function，作用是對輸入取平均，程式碼如下："
      ]
    },
    {
      "cell_type": "code",
      "metadata": {
        "id": "Uryj3uUo3sMp"
      },
      "source": [
        "def average_function(inputs):\n",
        "    return K.mean(inputs, axis=1)"
      ],
      "execution_count": null,
      "outputs": []
    },
    {
      "cell_type": "markdown",
      "metadata": {
        "id": "fmPNMqat3sMp"
      },
      "source": [
        "接著，我們將一個 numpy array 送進這個函式，看看會發生什麼事。"
      ]
    },
    {
      "cell_type": "code",
      "metadata": {
        "id": "TGkd5t5w3sMp"
      },
      "source": [
        "# 此段程式碼為錯誤範例\n",
        "average_function(np.array([1, 3]))  #只吃tensor這個東西(因為函數是K.mean()做的，numpy下面沒有像TensorFlow有base_dtype這個屬性)"
      ],
      "execution_count": null,
      "outputs": []
    },
    {
      "cell_type": "markdown",
      "metadata": {
        "id": "vbknq1TV3sMp"
      },
      "source": [
        "你/妳會發現，這邊的函式不接受 numpy array 的類型作為輸入，這是因為 TensorFlow 有自定義的類型，因此，在這邊我們沒辦法直接使用這個函式。"
      ]
    },
    {
      "cell_type": "markdown",
      "metadata": {
        "id": "UAHfCQtQ3sMq"
      },
      "source": [
        "我們透過 `Lambda` ，將上述函式包裝成一個神經網路層。"
      ]
    },
    {
      "cell_type": "code",
      "metadata": {
        "id": "fIM_5B6l3sMq"
      },
      "source": [
        "average_layer = Lambda(average_function)"
      ],
      "execution_count": null,
      "outputs": []
    },
    {
      "cell_type": "code",
      "metadata": {
        "id": "dwNwI9Ep3sMq",
        "outputId": "1a25393d-6300-4ec8-f30d-18ed95e387b3"
      },
      "source": [
        "print(average_layer)"
      ],
      "execution_count": null,
      "outputs": [
        {
          "output_type": "stream",
          "text": [
            "<tensorflow.python.keras.layers.core.Lambda object at 0x7f685002fe50>\n"
          ],
          "name": "stdout"
        }
      ]
    },
    {
      "cell_type": "markdown",
      "metadata": {
        "id": "uN7HbBZi3sMq"
      },
      "source": [
        "此時，下述程式碼可以建構出一個將指定長度的資料取平均的神經網路。"
      ]
    },
    {
      "cell_type": "code",
      "metadata": {
        "id": "s3maeB1J3sMq"
      },
      "source": [
        "inputSize = 4  #指定四維的輸入\n",
        "\n",
        "x = Input(shape=(inputSize,))\n",
        "y = average_layer(x)\n",
        "average_model = Model(x, y)  #吐出那四維項量的平均"
      ],
      "execution_count": null,
      "outputs": []
    },
    {
      "cell_type": "markdown",
      "metadata": {
        "id": "AMSCtY523sMq"
      },
      "source": [
        "可以發現，這樣的神經網路是不具有訓練權重的。"
      ]
    },
    {
      "cell_type": "code",
      "metadata": {
        "id": "TIU3itCl3sMq",
        "outputId": "f6a135bc-b438-4d7d-e8f0-70e2c236a185"
      },
      "source": [
        "average_model.summary()"
      ],
      "execution_count": null,
      "outputs": [
        {
          "output_type": "stream",
          "text": [
            "Model: \"model_2\"\n",
            "_________________________________________________________________\n",
            "Layer (type)                 Output Shape              Param #   \n",
            "=================================================================\n",
            "input_3 (InputLayer)         [(None, 4)]               0         \n",
            "_________________________________________________________________\n",
            "lambda (Lambda)              (None,)                   0         \n",
            "=================================================================\n",
            "Total params: 0\n",
            "Trainable params: 0\n",
            "Non-trainable params: 0\n",
            "_________________________________________________________________\n"
          ],
          "name": "stdout"
        }
      ]
    },
    {
      "cell_type": "markdown",
      "metadata": {
        "id": "KE-6C_253sMq"
      },
      "source": [
        "記得，在使用前記得先 compile"
      ]
    },
    {
      "cell_type": "code",
      "metadata": {
        "id": "FqHXKRSZ3sMq"
      },
      "source": [
        "average_model.compile(loss='mse', optimizer='sgd')"
      ],
      "execution_count": null,
      "outputs": []
    },
    {
      "cell_type": "markdown",
      "metadata": {
        "id": "BTcAqH5v3sMq"
      },
      "source": [
        "接著，我們將 `[1, 2, 3, 4]` 送進這個神經網路，看看神經網路的輸出是否為這個向量的**平均。"
      ]
    },
    {
      "cell_type": "code",
      "metadata": {
        "id": "lHiNkVLh3sMq",
        "outputId": "33d9487e-2168-4b8e-8a6e-7b348aca2236"
      },
      "source": [
        "np.array([[1, 2, 3, 4]]).shape  #一筆四維的項量"
      ],
      "execution_count": null,
      "outputs": [
        {
          "output_type": "execute_result",
          "data": {
            "text/plain": [
              "(1, 4)"
            ]
          },
          "metadata": {
            "tags": []
          },
          "execution_count": 33
        }
      ]
    },
    {
      "cell_type": "code",
      "metadata": {
        "id": "4hWZVTt03sMr",
        "outputId": "0716a7b9-9ca2-4e79-b31f-5c9042144145"
      },
      "source": [
        "average_model.predict(np.array([[1, 2, 3, 4]]))"
      ],
      "execution_count": null,
      "outputs": [
        {
          "output_type": "execute_result",
          "data": {
            "text/plain": [
              "array([2.5], dtype=float32)"
            ]
          },
          "metadata": {
            "tags": []
          },
          "execution_count": 34
        }
      ]
    },
    {
      "cell_type": "markdown",
      "metadata": {
        "id": "fdS19b2m3sMr"
      },
      "source": [
        "可以發現，將 `[1, 2, 3, 4]` 轉成 Numpy array 送進神經網路**預測**後，答案是 `2.5`，即為 (1+2+3+4)/4，確實是平均。\n",
        "\n",
        "我們也可以一次送進多筆資料進行平均的計算。"
      ]
    },
    {
      "cell_type": "code",
      "metadata": {
        "id": "YwB1H6WD3sMr",
        "outputId": "6c84f78f-bd84-4f66-c5d9-ff569d899b86"
      },
      "source": [
        "average_model.predict(np.array([[1, 2, 3, 4],\n",
        "               [1, 1, 1, 1]])) #實做一個具有平均功能的神經網路"
      ],
      "execution_count": null,
      "outputs": [
        {
          "output_type": "execute_result",
          "data": {
            "text/plain": [
              "array([2.5, 1. ], dtype=float32)"
            ]
          },
          "metadata": {
            "tags": []
          },
          "execution_count": 35
        }
      ]
    },
    {
      "cell_type": "markdown",
      "metadata": {
        "id": "976XKq3y3sMr"
      },
      "source": [
        "### 加碼: 具抽樣功能的神經網路層\n",
        "\n",
        "輸入為 $(\\mu, s)$ ，$\\mu=(\\mu_1,\\cdots,\\mu_n)$ 和 $s=(s_1,\\cdots,s_n)$ 各自為 $n$ 維向量。\n",
        "\n",
        "我們希望神經網路層輸出為服從 $N(\\mu, e^{s}I_n)$ 的 $n$ 維向量，換言之，我們希望建構的神經網路其實是一個抽樣函數。\n",
        "\n",
        "** 由於神經網路的輸入輸出經常沒有限制，為了讓 $s$ 具有變異數的非負特性，我們考慮 $e^{s}$ 作為變異數；換言之，$s$ 為 log-variance。"
      ]
    },
    {
      "cell_type": "markdown",
      "metadata": {
        "id": "i-r5YEkn3sMr"
      },
      "source": [
        "假設我們想進行抽樣的維度為 `sampling_dim`，則一個具抽樣函數功能的神經網路可由下述方式建構。"
      ]
    },
    {
      "cell_type": "code",
      "metadata": {
        "id": "jgoZCeDD3sMr"
      },
      "source": [
        "sampling_dim = 2\n",
        "\n",
        "def sampling(args):\n",
        "    z_mean, z_log_var = args\n",
        "    epsilon = K.random_normal(shape=(sampling_dim,), mean=0., stddev=1)\n",
        "    return z_mean + K.exp(z_log_var / 2) * epsilon"
      ],
      "execution_count": null,
      "outputs": []
    },
    {
      "cell_type": "markdown",
      "metadata": {
        "id": "ymYw-O6l3sMr"
      },
      "source": [
        "這裡使用到常態分配的線性特性來定義函數，亦即\n",
        "\n",
        "$$X\\sim N(0, 1)\\Rightarrow \\mu+\\sigma X\\sim N(\\mu, \\sigma^2)$$\n",
        "\n",
        "\n",
        "若不熟機率論的同學，可以詢問助教。"
      ]
    },
    {
      "cell_type": "code",
      "metadata": {
        "id": "DBa1BzLs3sMr"
      },
      "source": [
        "sample_layer = Lambda(sampling, output_shape=(sampling_dim,))"
      ],
      "execution_count": null,
      "outputs": []
    },
    {
      "cell_type": "code",
      "metadata": {
        "id": "qXBeMX6r3sMr"
      },
      "source": [
        "m = Input(shape=(sampling_dim,))\n",
        "s = Input(shape=(sampling_dim,))\n",
        "\n",
        "\n",
        "z = sample_layer([m, s])\n",
        "\n",
        "sample_model = Model([m, s], z)"
      ],
      "execution_count": null,
      "outputs": []
    },
    {
      "cell_type": "code",
      "metadata": {
        "id": "cA7rYnp73sMr",
        "outputId": "7f931795-5f7d-45f2-c2ba-a556f48cf922"
      },
      "source": [
        "sample_model.summary()"
      ],
      "execution_count": null,
      "outputs": [
        {
          "output_type": "stream",
          "text": [
            "Model: \"model_3\"\n",
            "__________________________________________________________________________________________________\n",
            "Layer (type)                    Output Shape         Param #     Connected to                     \n",
            "==================================================================================================\n",
            "input_4 (InputLayer)            [(None, 2)]          0                                            \n",
            "__________________________________________________________________________________________________\n",
            "input_5 (InputLayer)            [(None, 2)]          0                                            \n",
            "__________________________________________________________________________________________________\n",
            "lambda_1 (Lambda)               (None, 2)            0           input_4[0][0]                    \n",
            "                                                                 input_5[0][0]                    \n",
            "==================================================================================================\n",
            "Total params: 0\n",
            "Trainable params: 0\n",
            "Non-trainable params: 0\n",
            "__________________________________________________________________________________________________\n"
          ],
          "name": "stdout"
        }
      ]
    },
    {
      "cell_type": "code",
      "metadata": {
        "id": "1tCJLoKf3sMs",
        "outputId": "832362ee-a13c-4828-f1ff-f0e7aee0f515"
      },
      "source": [
        "test_mean = np.random.randint(10, size=sampling_dim).reshape(1, 2)\n",
        "test_log_var = np.array([[0, 0]])\n",
        "\n",
        "print(\"平均為 (%d, %d)\" %(test_mean[0][0], test_mean[0][1]))"
      ],
      "execution_count": null,
      "outputs": [
        {
          "output_type": "stream",
          "text": [
            "平均為 (2, 2)\n"
          ],
          "name": "stdout"
        }
      ]
    },
    {
      "cell_type": "markdown",
      "metadata": {
        "id": "QnP_xMDw3sMs"
      },
      "source": [
        "透過下面的指令，我們每次可以抽樣出一服從上述要求常態分配之隨機向量"
      ]
    },
    {
      "cell_type": "code",
      "metadata": {
        "id": "JqbzetyI3sMs",
        "outputId": "ca391a46-44df-4088-bd72-e5b025ece98d"
      },
      "source": [
        "sample_model.predict([test_mean, test_log_var])"
      ],
      "execution_count": null,
      "outputs": [
        {
          "output_type": "execute_result",
          "data": {
            "text/plain": [
              "array([[1.6831573, 2.0230477]], dtype=float32)"
            ]
          },
          "metadata": {
            "tags": []
          },
          "execution_count": 41
        }
      ]
    },
    {
      "cell_type": "markdown",
      "metadata": {
        "id": "0gqsSA0s3sMs"
      },
      "source": [
        "來和 Numpy 上的抽樣函數進行比較吧~"
      ]
    },
    {
      "cell_type": "code",
      "metadata": {
        "id": "Za6iZ9k03sMs"
      },
      "source": [
        "num_of_samples = 100"
      ],
      "execution_count": null,
      "outputs": []
    },
    {
      "cell_type": "code",
      "metadata": {
        "id": "xtrGFLDm3sMs"
      },
      "source": [
        "np_sample = np.random.multivariate_normal(test_mean[0], np.identity(2), size=num_of_samples)"
      ],
      "execution_count": null,
      "outputs": []
    },
    {
      "cell_type": "code",
      "metadata": {
        "id": "0mAVURSr3sMs"
      },
      "source": [
        "kears_sample = np.zeros((num_of_samples, 2))\n",
        "for i in range(num_of_samples):\n",
        "    kears_sample[i] = sample_model.predict([test_mean, test_log_var])"
      ],
      "execution_count": null,
      "outputs": []
    },
    {
      "cell_type": "code",
      "metadata": {
        "id": "UKgEKfBS3sMs",
        "outputId": "69bcef7d-7a88-4000-8979-1e2144616403"
      },
      "source": [
        "plt.plot(kears_sample[:, 0], kears_sample[:, 1], 'ro')\n",
        "plt.plot(np_sample[:, 0], np_sample[:, 1], 'o')\n",
        "plt.legend(['Keras', 'Numpy'])\n",
        "plt.title('Normal Random Samples using Keras/Numpy')"
      ],
      "execution_count": null,
      "outputs": [
        {
          "output_type": "execute_result",
          "data": {
            "text/plain": [
              "Text(0.5, 1.0, 'Normal Random Samples using Keras/Numpy')"
            ]
          },
          "metadata": {
            "tags": []
          },
          "execution_count": 45
        },
        {
          "output_type": "display_data",
          "data": {
            "image/png": "[encoded data removed]",
            "text/plain": [
              "<Figure size 432x288 with 1 Axes>"
            ]
          },
          "metadata": {
            "tags": [],
            "needs_background": "light"
          }
        }
      ]
    },
    {
      "cell_type": "markdown",
      "metadata": {
        "id": "-NLGLX0U3sMs"
      },
      "source": [
        "## 4. 恭喜你，完成學習所有建立 Variational Autoencoder 所需的重要技巧。"
      ]
    },
    {
      "cell_type": "markdown",
      "metadata": {
        "id": "QjferldE3sMt"
      },
      "source": [
        "Variational Autoencoder (VAE) 是一個重要的非監督式學習模型，具體應用的場合為特徵抽取/資料壓縮及還原，為影像處理中常見的模型之一。\n",
        "\n",
        "在建立 VAE中，需要的兩個重要技巧:\n",
        "* 分歧-合併\n",
        "* 自定義函數 (抽樣函數)\n",
        "\n",
        "已經完成了學習，下一單元，我們將告訴各位如何建立並訓練 VAE 模型。"
      ]
    }
  ]
}