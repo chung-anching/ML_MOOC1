{
  "nbformat": 4,
  "nbformat_minor": 0,
  "metadata": {
    "accelerator": "GPU",
    "colab": {
      "name": "「20200513 Keras進階技巧：Sequential 的另一種用法」的副本",
      "provenance": [],
      "collapsed_sections": [
        "OSew6gi3goiy"
      ],
      "machine_shape": "hm"
    },
    "kernelspec": {
      "display_name": "Python 3",
      "language": "python",
      "name": "python3"
    },
    "language_info": {
      "codemirror_mode": {
        "name": "ipython",
        "version": 3
      },
      "file_extension": ".py",
      "mimetype": "text/x-python",
      "name": "python",
      "nbconvert_exporter": "python",
      "pygments_lexer": "ipython3",
      "version": "3.7.3"
    }
  },
  "cells": [
    {
      "cell_type": "markdown",
      "metadata": {
        "id": "XUZA3OvtRzK-"
      },
      "source": [
        "\n",
        "<p align=\"center\">\n",
        "  <img src=\"https://storage.googleapis.com/kaggle-competitions/kaggle/3649/media/cifar-10.png\"\n",
        "  />\n",
        "  <center>Cifar 10 資料庫</center>\n",
        "  <center>圖片來源: https://www.kaggle.com/</center>\n",
        "</p>"
      ]
    },
    {
      "cell_type": "markdown",
      "metadata": {
        "id": "zJMS8p3wfPXO"
      },
      "source": [
        "## 1: 切換 TensorFlow 版本至 2.x"
      ]
    },
    {
      "cell_type": "code",
      "metadata": {
        "colab": {
          "background_save": true
        },
        "id": "PXNUanZvcwwZ"
      },
      "source": [
        "%tensorflow_version 2.x"
      ],
      "execution_count": null,
      "outputs": []
    },
    {
      "cell_type": "markdown",
      "metadata": {
        "id": "lRHFdNYAfWKJ"
      },
      "source": [
        "## 2: 載入套件及資料集"
      ]
    },
    {
      "cell_type": "code",
      "metadata": {
        "colab": {
          "background_save": true
        },
        "id": "tS5xFeQwe9Xu"
      },
      "source": [
        "# Import some useful packages\n",
        "import matplotlib.pyplot as plt\n",
        "import numpy as np\n",
        "\n",
        "# Layers for FNN\n",
        "from tensorflow.keras.models import Sequential\n",
        "from tensorflow.keras.layers import Dense\n",
        "from tensorflow.keras.layers import Flatten\n",
        "\n",
        "# Layers for CNN\n",
        "from tensorflow.keras.layers import Conv2D, MaxPool2D, GlobalAveragePooling2D\n",
        "\n",
        "from tensorflow.keras.optimizers import SGD, Adam\n",
        "\n",
        "# For data preprocessing\n",
        "from tensorflow.keras import datasets\n",
        "from tensorflow.keras.utils import to_categorical"
      ],
      "execution_count": null,
      "outputs": []
    },
    {
      "cell_type": "markdown",
      "metadata": {
        "id": "e8zYubaPfy-S"
      },
      "source": [
        "## 3: 資料前處理 (Data Preprocessing)"
      ]
    },
    {
      "cell_type": "markdown",
      "metadata": {
        "id": "YleM4DH4NoOA"
      },
      "source": [
        "CIFAR 10 是包含 10 種類的彩色小圖資料集，每張圖的尺寸為 $32\\times32$\n",
        "\n",
        "10 個類別分別是：飛機、交通工具、鳥、貓、鹿、狗、青蛙、馬、船、卡車"
      ]
    },
    {
      "cell_type": "markdown",
      "metadata": {
        "id": "AOAGjiPogF0w"
      },
      "source": [
        "讀取 CIFAR 10 資料集"
      ]
    },
    {
      "cell_type": "code",
      "metadata": {
        "colab": {
          "background_save": true
        },
        "id": "4c5EYPsuNThg"
      },
      "source": [
        "name_list = ['airplane', 'automobile', 'bird', 'cat', 'deer', 'dog', 'frog', 'horse', 'ship', 'truck']"
      ],
      "execution_count": null,
      "outputs": []
    },
    {
      "cell_type": "code",
      "metadata": {
        "colab": {
          "background_save": true,
          "base_uri": "https://localhost:8080/",
          "height": 50
        },
        "id": "ITug7sp2TAr5",
        "outputId": "1f844dec-43c8-408d-82f8-d63db9e9cc98"
      },
      "source": [
        "# Load CIFAR 10\n",
        "(X_train, y_train0), (X_test, y_test0) = datasets.cifar10.load_data()\n",
        "\n",
        "# Normalize the range of featurs\n",
        "X_train = X_train / X_train.max()\n",
        "X_test = X_test / X_test.max()\n",
        "\n",
        "# One-hot encoding\n",
        "y_train = to_categorical(y_train0, 10)\n",
        "y_test = to_categorical(y_test0, 10)"
      ],
      "execution_count": null,
      "outputs": [
        {
          "output_type": "stream",
          "text": [
            "Downloading data from https://www.cs.toronto.edu/~kriz/cifar-10-python.tar.gz\n",
            "170500096/170498071 [==============================] - 4s 0us/step\n"
          ],
          "name": "stdout"
        }
      ]
    },
    {
      "cell_type": "code",
      "metadata": {
        "colab": {
          "background_save": true,
          "base_uri": "https://localhost:8080/",
          "height": 264
        },
        "id": "CnRkalOEMx8U",
        "outputId": "b18e2e57-af30-44c4-f02a-3c473515ca4a"
      },
      "source": [
        "idx = np.random.randint(X_train.shape[0])\n",
        "X_sample = X_train[idx]\n",
        "y_sample = y_train0[idx].squeeze()\n",
        "\n",
        "plt.imshow(X_sample)\n",
        "plt.title(name_list[y_sample])\n",
        "plt.axis('off');"
      ],
      "execution_count": null,
      "outputs": [
        {
          "output_type": "display_data",
          "data": {
            "image/png": "[encoded data removed]",
            "text/plain": [
              "<Figure size 432x288 with 1 Axes>"
            ]
          },
          "metadata": {
            "tags": []
          }
        }
      ]
    },
    {
      "cell_type": "markdown",
      "metadata": {
        "id": "swp6zTOST8gD"
      },
      "source": [
        "## 4: 建立用於分類 CIFAR 10 的卷積神經網路\n",
        "\n",
        "在這個部分，我們將逐步帶領大家建立經典的 CNN 模型 LeNet-5 的變形。\n",
        "\n",
        "LeNet-5 分成兩個部分，分別為卷積層與全連接層，兩部份之間是透過扁平層 (Flatten) ，將卷積層最後輸出的 2 維向量壓扁成 1 維向量。"
      ]
    },
    {
      "cell_type": "code",
      "metadata": {
        "colab": {
          "background_save": true
        },
        "id": "jGEAVln9TRwa"
      },
      "source": [
        "model = Sequential()\n",
        "\n",
        "# First convolutional block\n",
        "model.add(Conv2D(32, (3, 3), input_shape=(32, 32, 3), padding='same', activation='relu'))\n",
        "model.add(MaxPool2D())\n",
        "\n",
        "# Second convolutional block\n",
        "model.add(Conv2D(128, (3, 3), padding='same', activation='relu'))\n",
        "model.add(MaxPool2D())\n",
        "\n",
        "# Third convolutional block\n",
        "model.add(Conv2D(512, (3, 3), padding='same', activation='relu'))\n",
        "model.add(GlobalAveragePooling2D())\n",
        "\n",
        "# Fully-connected layers as a classfier\n",
        "model.add(Dense(units=256, activation='relu'))\n",
        "\n",
        "# Ouput layer: # of neurons = # of classes with softmax activation\n",
        "model.add(Dense(units=10, activation='softmax'))"
      ],
      "execution_count": null,
      "outputs": []
    },
    {
      "cell_type": "code",
      "metadata": {
        "colab": {
          "background_save": true,
          "base_uri": "https://localhost:8080/",
          "height": 420
        },
        "id": "floU0of05vJj",
        "outputId": "2b1c8f9c-e36a-4028-dc11-127fb8478816"
      },
      "source": [
        "model.summary()"
      ],
      "execution_count": null,
      "outputs": [
        {
          "output_type": "stream",
          "text": [
            "Model: \"sequential\"\n",
            "_________________________________________________________________\n",
            "Layer (type)                 Output Shape              Param #   \n",
            "=================================================================\n",
            "conv2d (Conv2D)              (None, 32, 32, 32)        896       \n",
            "_________________________________________________________________\n",
            "max_pooling2d (MaxPooling2D) (None, 16, 16, 32)        0         \n",
            "_________________________________________________________________\n",
            "conv2d_1 (Conv2D)            (None, 16, 16, 128)       36992     \n",
            "_________________________________________________________________\n",
            "max_pooling2d_1 (MaxPooling2 (None, 8, 8, 128)         0         \n",
            "_________________________________________________________________\n",
            "conv2d_2 (Conv2D)            (None, 8, 8, 512)         590336    \n",
            "_________________________________________________________________\n",
            "global_average_pooling2d (Gl (None, 512)               0         \n",
            "_________________________________________________________________\n",
            "dense (Dense)                (None, 256)               131328    \n",
            "_________________________________________________________________\n",
            "dense_1 (Dense)              (None, 10)                2570      \n",
            "=================================================================\n",
            "Total params: 762,122\n",
            "Trainable params: 762,122\n",
            "Non-trainable params: 0\n",
            "_________________________________________________________________\n"
          ],
          "name": "stdout"
        }
      ]
    },
    {
      "cell_type": "markdown",
      "metadata": {
        "id": "GWdFSj9OcYWl"
      },
      "source": [
        "### 編譯模型: 設定模型訓練時的設定\n",
        "\n",
        "- Optimizer: Stochastic Gradient Descent (SGD)\n",
        "- Loss: categorical cross-entropy "
      ]
    },
    {
      "cell_type": "code",
      "metadata": {
        "colab": {
          "background_save": true
        },
        "id": "86fvl2DHcKwj"
      },
      "source": [
        "model.compile(loss='categorical_crossentropy', \n",
        "              optimizer=Adam(),\n",
        "              metrics=['categorical_accuracy'])"
      ],
      "execution_count": null,
      "outputs": []
    },
    {
      "cell_type": "markdown",
      "metadata": {
        "id": "-Zz5yHOzdUgv"
      },
      "source": [
        "### 訓練模型: 透過訓練來學習分類資料的函數"
      ]
    },
    {
      "cell_type": "code",
      "metadata": {
        "colab": {
          "background_save": true,
          "base_uri": "https://localhost:8080/",
          "height": 134
        },
        "id": "LVdaaVOJcKrk",
        "outputId": "03bba368-46a1-48a5-a9e2-112f888ae477"
      },
      "source": [
        "model.fit(X_train, y_train, \n",
        "          batch_size=128, \n",
        "          epochs=3,\n",
        "          validation_data=(X_test, y_test)\n",
        "          )"
      ],
      "execution_count": null,
      "outputs": [
        {
          "output_type": "stream",
          "text": [
            "Epoch 1/3\n",
            "391/391 [==============================] - 37s 13ms/step - loss: 1.7791 - categorical_accuracy: 0.3232 - val_loss: 1.5215 - val_categorical_accuracy: 0.4350\n",
            "Epoch 2/3\n",
            "391/391 [==============================] - 5s 12ms/step - loss: 1.4487 - categorical_accuracy: 0.4676 - val_loss: 1.3433 - val_categorical_accuracy: 0.5097\n",
            "Epoch 3/3\n",
            "391/391 [==============================] - 5s 12ms/step - loss: 1.2804 - categorical_accuracy: 0.5320 - val_loss: 1.2089 - val_categorical_accuracy: 0.5555\n"
          ],
          "name": "stdout"
        },
        {
          "output_type": "execute_result",
          "data": {
            "text/plain": [
              "<tensorflow.python.keras.callbacks.History at 0x7fa682fdc850>"
            ]
          },
          "metadata": {
            "tags": []
          },
          "execution_count": 0
        }
      ]
    },
    {
      "cell_type": "code",
      "metadata": {
        "colab": {
          "background_save": true
        },
        "id": "dnuqnY1TLpgR"
      },
      "source": [
        "model.save_weights('LeNet5_CIFAR10.h5')"
      ],
      "execution_count": null,
      "outputs": []
    },
    {
      "cell_type": "markdown",
      "metadata": {
        "id": "5IJhvV_BSo9x"
      },
      "source": [
        "### 模型預測: 預測資料集的準確率"
      ]
    },
    {
      "cell_type": "code",
      "metadata": {
        "colab": {
          "background_save": true,
          "base_uri": "https://localhost:8080/",
          "height": 84
        },
        "id": "btoBDRueSokB",
        "outputId": "f45c3a40-568e-4502-d3de-623ce25b6bea"
      },
      "source": [
        "# model.load_weights('LeNet5_CIFAR10.h5')\n",
        "\n",
        "score_train = model.evaluate(X_train, y_train)\n",
        "score_test = model.evaluate(X_test, y_test)\n",
        "\n",
        "print(f'Train Accuracy: {score_train[1]*100}')\n",
        "print(f'Test Accuracy: {score_test[1]*100}')"
      ],
      "execution_count": null,
      "outputs": [
        {
          "output_type": "stream",
          "text": [
            "1563/1563 [==============================] - 5s 3ms/step - loss: 1.1987 - categorical_accuracy: 0.5627\n",
            "313/313 [==============================] - 1s 3ms/step - loss: 1.2089 - categorical_accuracy: 0.5555\n",
            "Train Accuracy: 56.26800060272217\n",
            "Test Accuracy: 55.549997091293335\n"
          ],
          "name": "stdout"
        }
      ]
    },
    {
      "cell_type": "code",
      "metadata": {
        "colab": {
          "background_save": true
        },
        "id": "mV_jjr02p6Uz"
      },
      "source": [
        ""
      ],
      "execution_count": null,
      "outputs": []
    },
    {
      "cell_type": "code",
      "metadata": {
        "colab": {
          "background_save": true,
          "base_uri": "https://localhost:8080/",
          "height": 151
        },
        "id": "P4PKj-iYp3EB",
        "outputId": "42f980da-b19d-44d4-c6a1-5bc550836b71"
      },
      "source": [
        "model.layers"
      ],
      "execution_count": null,
      "outputs": [
        {
          "output_type": "execute_result",
          "data": {
            "text/plain": [
              "[<tensorflow.python.keras.layers.convolutional.Conv2D at 0x7fa63c9632d0>,\n",
              " <tensorflow.python.keras.layers.pooling.MaxPooling2D at 0x7fa63c963290>,\n",
              " <tensorflow.python.keras.layers.convolutional.Conv2D at 0x7fa63ca13a50>,\n",
              " <tensorflow.python.keras.layers.pooling.MaxPooling2D at 0x7fa6434a5f10>,\n",
              " <tensorflow.python.keras.layers.convolutional.Conv2D at 0x7fa64349d350>,\n",
              " <tensorflow.python.keras.layers.pooling.GlobalAveragePooling2D at 0x7fa646c91910>,\n",
              " <tensorflow.python.keras.layers.core.Dense at 0x7fa64349d210>,\n",
              " <tensorflow.python.keras.layers.core.Dense at 0x7fa63c87c790>]"
            ]
          },
          "metadata": {
            "tags": []
          },
          "execution_count": 0
        }
      ]
    },
    {
      "cell_type": "code",
      "metadata": {
        "colab": {
          "background_save": true
        },
        "id": "UyxQIxGNp6-A"
      },
      "source": [
        ""
      ],
      "execution_count": null,
      "outputs": []
    },
    {
      "cell_type": "markdown",
      "metadata": {
        "id": "0G7lUOLHQEjr"
      },
      "source": [
        "## 5: 另一種使用 Sequential 建立模型的方式"
      ]
    },
    {
      "cell_type": "code",
      "metadata": {
        "colab": {
          "background_save": true
        },
        "id": "14YYzYYwcKpE"
      },
      "source": [
        "CNN_layers = [Conv2D(32, (3, 3), input_shape=(32, 32, 3), padding='same', activation='relu', name='Conv_1'),\n",
        "              MaxPool2D(),\n",
        "              Conv2D(128, (3, 3), padding='same', activation='relu', name='Conv_2'),\n",
        "              MaxPool2D(),\n",
        "              Conv2D(512, (3, 3), padding='same', activation='relu', name='Conv_3'),\n",
        "              GlobalAveragePooling2D()]\n",
        "\n",
        "FC_layers = [Dense(units=256, activation='relu'),\n",
        "             Dense(units=10, activation='softmax')]"
      ],
      "execution_count": null,
      "outputs": []
    },
    {
      "cell_type": "code",
      "metadata": {
        "colab": {
          "background_save": true,
          "base_uri": "https://localhost:8080/",
          "height": 151
        },
        "id": "xn7EzCCgqkDs",
        "outputId": "8dcef760-b176-464d-c14f-6d4bcbd97b8d"
      },
      "source": [
        "CNN_layers + FC_layers"
      ],
      "execution_count": null,
      "outputs": [
        {
          "output_type": "execute_result",
          "data": {
            "text/plain": [
              "[<tensorflow.python.keras.layers.convolutional.Conv2D at 0x7fa630318e10>,\n",
              " <tensorflow.python.keras.layers.pooling.MaxPooling2D at 0x7fa630310b50>,\n",
              " <tensorflow.python.keras.layers.convolutional.Conv2D at 0x7fa630320950>,\n",
              " <tensorflow.python.keras.layers.pooling.MaxPooling2D at 0x7fa630320c10>,\n",
              " <tensorflow.python.keras.layers.convolutional.Conv2D at 0x7fa630310e50>,\n",
              " <tensorflow.python.keras.layers.pooling.GlobalAveragePooling2D at 0x7fa630325250>,\n",
              " <tensorflow.python.keras.layers.core.Dense at 0x7fa630318790>,\n",
              " <tensorflow.python.keras.layers.core.Dense at 0x7fa630325710>]"
            ]
          },
          "metadata": {
            "tags": []
          },
          "execution_count": 0
        }
      ]
    },
    {
      "cell_type": "code",
      "metadata": {
        "colab": {
          "background_save": true,
          "base_uri": "https://localhost:8080/",
          "height": 420
        },
        "id": "hvmVUw4krEJq",
        "outputId": "60a95801-03f2-4e8c-e710-e2f3b1c84c53"
      },
      "source": [
        "model.summary()"
      ],
      "execution_count": null,
      "outputs": [
        {
          "output_type": "stream",
          "text": [
            "Model: \"sequential\"\n",
            "_________________________________________________________________\n",
            "Layer (type)                 Output Shape              Param #   \n",
            "=================================================================\n",
            "conv2d (Conv2D)              (None, 32, 32, 32)        896       \n",
            "_________________________________________________________________\n",
            "max_pooling2d (MaxPooling2D) (None, 16, 16, 32)        0         \n",
            "_________________________________________________________________\n",
            "conv2d_1 (Conv2D)            (None, 16, 16, 128)       36992     \n",
            "_________________________________________________________________\n",
            "max_pooling2d_1 (MaxPooling2 (None, 8, 8, 128)         0         \n",
            "_________________________________________________________________\n",
            "conv2d_2 (Conv2D)            (None, 8, 8, 512)         590336    \n",
            "_________________________________________________________________\n",
            "global_average_pooling2d (Gl (None, 512)               0         \n",
            "_________________________________________________________________\n",
            "dense (Dense)                (None, 256)               131328    \n",
            "_________________________________________________________________\n",
            "dense_1 (Dense)              (None, 10)                2570      \n",
            "=================================================================\n",
            "Total params: 762,122\n",
            "Trainable params: 762,122\n",
            "Non-trainable params: 0\n",
            "_________________________________________________________________\n"
          ],
          "name": "stdout"
        }
      ]
    },
    {
      "cell_type": "code",
      "metadata": {
        "colab": {
          "background_save": true,
          "base_uri": "https://localhost:8080/",
          "height": 420
        },
        "id": "43XOpYqROKzD",
        "outputId": "10e476b2-c576-477c-a504-dfcc1641768c"
      },
      "source": [
        "model_2 = Sequential(CNN_layers+FC_layers)\n",
        "model_2.summary()"
      ],
      "execution_count": null,
      "outputs": [
        {
          "output_type": "stream",
          "text": [
            "Model: \"sequential_1\"\n",
            "_________________________________________________________________\n",
            "Layer (type)                 Output Shape              Param #   \n",
            "=================================================================\n",
            "Conv_1 (Conv2D)              (None, 32, 32, 32)        896       \n",
            "_________________________________________________________________\n",
            "max_pooling2d_2 (MaxPooling2 (None, 16, 16, 32)        0         \n",
            "_________________________________________________________________\n",
            "Conv_2 (Conv2D)              (None, 16, 16, 128)       36992     \n",
            "_________________________________________________________________\n",
            "max_pooling2d_3 (MaxPooling2 (None, 8, 8, 128)         0         \n",
            "_________________________________________________________________\n",
            "Conv_3 (Conv2D)              (None, 8, 8, 512)         590336    \n",
            "_________________________________________________________________\n",
            "global_average_pooling2d_1 ( (None, 512)               0         \n",
            "_________________________________________________________________\n",
            "dense_2 (Dense)              (None, 256)               131328    \n",
            "_________________________________________________________________\n",
            "dense_3 (Dense)              (None, 10)                2570      \n",
            "=================================================================\n",
            "Total params: 762,122\n",
            "Trainable params: 762,122\n",
            "Non-trainable params: 0\n",
            "_________________________________________________________________\n"
          ],
          "name": "stdout"
        }
      ]
    },
    {
      "cell_type": "markdown",
      "metadata": {
        "id": "Axv5GfyzRfMZ"
      },
      "source": [
        "####  與使用 `model.add` 建立模型的差異？"
      ]
    },
    {
      "cell_type": "code",
      "metadata": {
        "colab": {
          "background_save": true
        },
        "id": "_tmJIForZPlR"
      },
      "source": [
        "model_2.compile(loss='categorical_crossentropy', \n",
        "                optimizer=Adam(),\n",
        "                metrics=['categorical_accuracy'])\n",
        "\n",
        "model_2.load_weights('LeNet5_CIFAR10.h5')"
      ],
      "execution_count": null,
      "outputs": []
    },
    {
      "cell_type": "code",
      "metadata": {
        "colab": {
          "background_save": true,
          "base_uri": "https://localhost:8080/",
          "height": 84
        },
        "id": "Tb2cXnaV8FHy",
        "outputId": "01cf2ee7-193b-4b0d-b0ad-c72d9ab2ad71"
      },
      "source": [
        "score_train = model_2.evaluate(X_train, y_train, batch_size=1024)\n",
        "score_test = model_2.evaluate(X_test, y_test, batch_size=1024)\n",
        "\n",
        "print(f'Train Accuracy: {score_train[1]*100}')\n",
        "print(f'Test Accuracy: {score_test[1]*100}')"
      ],
      "execution_count": null,
      "outputs": [
        {
          "output_type": "stream",
          "text": [
            "49/49 [==============================] - 3s 39ms/step - loss: 1.1987 - categorical_accuracy: 0.5627\n",
            "10/10 [==============================] - 1s 112ms/step - loss: 1.2089 - categorical_accuracy: 0.5555\n",
            "Train Accuracy: 56.26800060272217\n",
            "Test Accuracy: 55.549997091293335\n"
          ],
          "name": "stdout"
        }
      ]
    },
    {
      "cell_type": "markdown",
      "metadata": {
        "id": "W5Vf7bbrQIQc"
      },
      "source": [
        "## 6: 遷移學習 (Transfer Learning) 中的 Layer Transfer 的技巧"
      ]
    },
    {
      "cell_type": "code",
      "metadata": {
        "colab": {
          "background_save": true,
          "base_uri": "https://localhost:8080/",
          "height": 50
        },
        "id": "OmOkvmGXLjMo",
        "outputId": "8380ab5c-17a3-4120-ff1f-01500426b652"
      },
      "source": [
        "# Load CIFAR 100\n",
        "(U_train, v_train0), (U_test, v_test0) = datasets.cifar100.load_data()\n",
        "\n",
        "# Normalize the range of featurs\n",
        "U_train = U_train / U_train.max()\n",
        "U_test = U_test / U_test.max()\n",
        "\n",
        "# One-hot encoding\n",
        "v_train = to_categorical(v_train0, 100)\n",
        "v_test = to_categorical(v_test0, 100)"
      ],
      "execution_count": null,
      "outputs": [
        {
          "output_type": "stream",
          "text": [
            "Downloading data from https://www.cs.toronto.edu/~kriz/cifar-100-python.tar.gz\n",
            "169009152/169001437 [==============================] - 4s 0us/step\n"
          ],
          "name": "stdout"
        }
      ]
    },
    {
      "cell_type": "markdown",
      "metadata": {
        "id": "iRjjVxyiYxi4"
      },
      "source": [
        "LeNet-5 for CIFAR-10 (model_2)\n",
        "```\n",
        "CNN_layers = [Conv2D(32, (3, 3), input_shape=(32, 32, 3), padding='same', activation='relu', name='Conv_1'),\n",
        "              MaxPool2D(),\n",
        "              Conv2D(128, (3, 3), padding='same', activation='relu', name='Conv_2'),\n",
        "              MaxPool2D(),\n",
        "              Conv2D(512, (3, 3), padding='same', activation='relu', name='Conv_3'),\n",
        "              GlobalAveragePooling2D()]\n",
        "\n",
        "FC_layers = [Dense(units=256, activation='relu'),\n",
        "             Dense(units=10, activation='softmax')]\n",
        "```\n",
        "\n",
        "LeNet-5 for CIFAR-100\n",
        "```\n",
        "# From LeNet-5 for CIFAR-10\n",
        "CNN_layers\n",
        "\n",
        "# New FC layers for CIFAR-100\n",
        "FC_layers_CF100 = [Dense(units=256, activation='relu'),\n",
        "                   Dense(units=128, activation='relu'),\n",
        "                   Dense(units=100, activation='softmax')]\n",
        "```\n",
        "CNN_layers 是跟人家**借**來的。"
      ]
    },
    {
      "cell_type": "code",
      "metadata": {
        "colab": {
          "background_save": true
        },
        "id": "qd-lSV5rSJYX"
      },
      "source": [
        "FC_layers_CF100 = [Dense(units=256, activation='relu'),\n",
        "                   Dense(units=128, activation='relu'),\n",
        "                   Dense(units=100, activation='softmax')]"
      ],
      "execution_count": null,
      "outputs": []
    },
    {
      "cell_type": "code",
      "metadata": {
        "colab": {
          "background_save": true,
          "base_uri": "https://localhost:8080/",
          "height": 454
        },
        "id": "oF_YvZpEZuGD",
        "outputId": "aced591c-84f4-4602-9cc3-516f9bb70c65"
      },
      "source": [
        "model_CF100 = Sequential(CNN_layers+FC_layers_CF100)\n",
        "model_CF100.summary()"
      ],
      "execution_count": null,
      "outputs": [
        {
          "output_type": "stream",
          "text": [
            "Model: \"sequential_2\"\n",
            "_________________________________________________________________\n",
            "Layer (type)                 Output Shape              Param #   \n",
            "=================================================================\n",
            "Conv_1 (Conv2D)              (None, 32, 32, 32)        896       \n",
            "_________________________________________________________________\n",
            "max_pooling2d_2 (MaxPooling2 (None, 16, 16, 32)        0         \n",
            "_________________________________________________________________\n",
            "Conv_2 (Conv2D)              (None, 16, 16, 128)       36992     \n",
            "_________________________________________________________________\n",
            "max_pooling2d_3 (MaxPooling2 (None, 8, 8, 128)         0         \n",
            "_________________________________________________________________\n",
            "Conv_3 (Conv2D)              (None, 8, 8, 512)         590336    \n",
            "_________________________________________________________________\n",
            "global_average_pooling2d_1 ( (None, 512)               0         \n",
            "_________________________________________________________________\n",
            "dense_4 (Dense)              (None, 256)               131328    \n",
            "_________________________________________________________________\n",
            "dense_5 (Dense)              (None, 128)               32896     \n",
            "_________________________________________________________________\n",
            "dense_6 (Dense)              (None, 100)               12900     \n",
            "=================================================================\n",
            "Total params: 805,348\n",
            "Trainable params: 805,348\n",
            "Non-trainable params: 0\n",
            "_________________________________________________________________\n"
          ],
          "name": "stdout"
        }
      ]
    },
    {
      "cell_type": "markdown",
      "metadata": {
        "id": "N2_KcAk4Z2Pv"
      },
      "source": [
        "對照一下和 LeNet-5 for CIFAR-10 的差別"
      ]
    },
    {
      "cell_type": "code",
      "metadata": {
        "colab": {
          "background_save": true,
          "base_uri": "https://localhost:8080/",
          "height": 420
        },
        "id": "4E_nXlKyZ14h",
        "outputId": "4ac1e292-c8c5-47ad-e580-158103cf2746"
      },
      "source": [
        "model_2.summary()"
      ],
      "execution_count": null,
      "outputs": [
        {
          "output_type": "stream",
          "text": [
            "Model: \"sequential_1\"\n",
            "_________________________________________________________________\n",
            "Layer (type)                 Output Shape              Param #   \n",
            "=================================================================\n",
            "Conv_1 (Conv2D)              (None, 32, 32, 32)        896       \n",
            "_________________________________________________________________\n",
            "max_pooling2d_2 (MaxPooling2 (None, 16, 16, 32)        0         \n",
            "_________________________________________________________________\n",
            "Conv_2 (Conv2D)              (None, 16, 16, 128)       36992     \n",
            "_________________________________________________________________\n",
            "max_pooling2d_3 (MaxPooling2 (None, 8, 8, 128)         0         \n",
            "_________________________________________________________________\n",
            "Conv_3 (Conv2D)              (None, 8, 8, 512)         590336    \n",
            "_________________________________________________________________\n",
            "global_average_pooling2d_1 ( (None, 512)               0         \n",
            "_________________________________________________________________\n",
            "dense_2 (Dense)              (None, 256)               131328    \n",
            "_________________________________________________________________\n",
            "dense_3 (Dense)              (None, 10)                2570      \n",
            "=================================================================\n",
            "Total params: 762,122\n",
            "Trainable params: 762,122\n",
            "Non-trainable params: 0\n",
            "_________________________________________________________________\n"
          ],
          "name": "stdout"
        }
      ]
    },
    {
      "cell_type": "markdown",
      "metadata": {
        "id": "X2tE6ef-a65s"
      },
      "source": [
        "### 遷移學習的訓練方式\n",
        "* Fine-tune: 新資料集的樣本數夠多，整個模型重新訓練\n",
        "* Frozen: 當新資料集的樣本數不夠多，凍結借來的部分，只針對新建立的神經網路層訓練"
      ]
    },
    {
      "cell_type": "code",
      "metadata": {
        "colab": {
          "background_save": true
        },
        "id": "-Q1B1e96Z7p8"
      },
      "source": [
        "for layer in CNN_layers:\n",
        "    layer.trainable = False"
      ],
      "execution_count": null,
      "outputs": []
    },
    {
      "cell_type": "code",
      "metadata": {
        "colab": {
          "background_save": true,
          "base_uri": "https://localhost:8080/",
          "height": 454
        },
        "id": "szhsRPIXbb0F",
        "outputId": "4642a5ef-dc70-47cf-9365-19a081e00792"
      },
      "source": [
        "model_CF100.summary()"
      ],
      "execution_count": null,
      "outputs": [
        {
          "output_type": "stream",
          "text": [
            "Model: \"sequential_2\"\n",
            "_________________________________________________________________\n",
            "Layer (type)                 Output Shape              Param #   \n",
            "=================================================================\n",
            "Conv_1 (Conv2D)              (None, 32, 32, 32)        896       \n",
            "_________________________________________________________________\n",
            "max_pooling2d_2 (MaxPooling2 (None, 16, 16, 32)        0         \n",
            "_________________________________________________________________\n",
            "Conv_2 (Conv2D)              (None, 16, 16, 128)       36992     \n",
            "_________________________________________________________________\n",
            "max_pooling2d_3 (MaxPooling2 (None, 8, 8, 128)         0         \n",
            "_________________________________________________________________\n",
            "Conv_3 (Conv2D)              (None, 8, 8, 512)         590336    \n",
            "_________________________________________________________________\n",
            "global_average_pooling2d_1 ( (None, 512)               0         \n",
            "_________________________________________________________________\n",
            "dense_4 (Dense)              (None, 256)               131328    \n",
            "_________________________________________________________________\n",
            "dense_5 (Dense)              (None, 128)               32896     \n",
            "_________________________________________________________________\n",
            "dense_6 (Dense)              (None, 100)               12900     \n",
            "=================================================================\n",
            "Total params: 805,348\n",
            "Trainable params: 177,124\n",
            "Non-trainable params: 628,224\n",
            "_________________________________________________________________\n"
          ],
          "name": "stdout"
        }
      ]
    },
    {
      "cell_type": "code",
      "metadata": {
        "colab": {
          "background_save": true
        },
        "id": "Bu6OYc8PbfHA",
        "outputId": "74f693cb-f50e-4088-e22b-afe190fdbbe3"
      },
      "source": [
        "model_CF100.compile(loss='categorical_crossentropy', \n",
        "                    optimizer=Adam(),\n",
        "                    metrics=['categorical_accuracy'])\n",
        "\n",
        "model_CF100.fit(U_train, v_train,\n",
        "                batch_size=128, \n",
        "                epochs=5,\n",
        "                validation_data=(U_test, v_test)\n",
        "                )"
      ],
      "execution_count": null,
      "outputs": [
        {
          "output_type": "stream",
          "text": [
            "Epoch 1/5\n",
            "391/391 [==============================] - 3s 7ms/step - loss: 3.8036 - categorical_accuracy: 0.1148 - val_loss: 3.4798 - val_categorical_accuracy: 0.1614\n",
            "Epoch 2/5\n",
            "391/391 [==============================] - 2s 6ms/step - loss: 3.3587 - categorical_accuracy: 0.1860 - val_loss: 3.2848 - val_categorical_accuracy: 0.1991\n",
            "Epoch 3/5\n",
            "391/391 [==============================] - 2s 6ms/step - loss: 3.1996 - categorical_accuracy: 0.2157 - val_loss: 3.1663 - val_categorical_accuracy: 0.2182\n",
            "Epoch 4/5\n",
            "391/391 [==============================] - 2s 6ms/step - loss: 3.0922 - categorical_accuracy: 0.2348 - val_loss: 3.0680 - val_categorical_accuracy: 0.2366\n",
            "Epoch 5/5\n",
            "391/391 [==============================] - 2s 6ms/step - loss: 3.0181 - categorical_accuracy: 0.2487 - val_loss: 3.0092 - val_categorical_accuracy: 0.2496\n"
          ],
          "name": "stdout"
        },
        {
          "output_type": "execute_result",
          "data": {
            "text/plain": [
              "<tensorflow.python.keras.callbacks.History at 0x7fa6301c2c10>"
            ]
          },
          "metadata": {
            "tags": []
          },
          "execution_count": 0
        }
      ]
    },
    {
      "cell_type": "markdown",
      "metadata": {
        "id": "MlZsfofSb5k1"
      },
      "source": [
        "### 借來的神經網路 (的權重) 會如何變化？Frozen 的場合"
      ]
    },
    {
      "cell_type": "code",
      "metadata": {
        "colab": {
          "background_save": true,
          "base_uri": "https://localhost:8080/",
          "height": 84
        },
        "id": "7dOhdwRrdAwt",
        "outputId": "8c76edb6-9dde-43e8-b59e-06e9d866af14"
      },
      "source": [
        "score_train = model_2.evaluate(X_train, y_train)\n",
        "score_test = model_2.evaluate(X_test, y_test)\n",
        "\n",
        "print(f'Train Accuracy: {score_train[1]*100}')\n",
        "print(f'Test Accuracy: {score_test[1]*100}')"
      ],
      "execution_count": null,
      "outputs": [
        {
          "output_type": "stream",
          "text": [
            "1563/1563 [==============================] - 5s 3ms/step - loss: 1.1987 - categorical_accuracy: 0.5627\n",
            "313/313 [==============================] - 1s 3ms/step - loss: 1.2089 - categorical_accuracy: 0.5555\n",
            "Train Accuracy: 56.26800060272217\n",
            "Test Accuracy: 55.549997091293335\n"
          ],
          "name": "stdout"
        }
      ]
    },
    {
      "cell_type": "markdown",
      "metadata": {
        "id": "ysYktss3dE4J"
      },
      "source": [
        "### 借來的神經網路 (的權重) 會如何變化？Fine-tune 的場合"
      ]
    },
    {
      "cell_type": "code",
      "metadata": {
        "colab": {
          "background_save": true,
          "base_uri": "https://localhost:8080/",
          "height": 50
        },
        "id": "vjCaXC6bb_n4",
        "outputId": "6f237625-70e6-433c-9573-391dd22e7d0a"
      },
      "source": [
        "for layer in CNN_layers:\n",
        "    layer.trainable = True   #這邊不像剛剛是false\n",
        "\n",
        "model_CF100.fit(U_train, v_train,\n",
        "                batch_size=128, \n",
        "                epochs=1,\n",
        "                validation_data=(U_test, v_test)\n",
        "                )"
      ],
      "execution_count": null,
      "outputs": [
        {
          "output_type": "stream",
          "text": [
            "391/391 [==============================] - 2s 6ms/step - loss: 2.9549 - categorical_accuracy: 0.2626 - val_loss: 2.9574 - val_categorical_accuracy: 0.2582\n"
          ],
          "name": "stdout"
        },
        {
          "output_type": "execute_result",
          "data": {
            "text/plain": [
              "<tensorflow.python.keras.callbacks.History at 0x7fa630066890>"
            ]
          },
          "metadata": {
            "tags": []
          },
          "execution_count": 0
        }
      ]
    },
    {
      "cell_type": "code",
      "metadata": {
        "colab": {
          "background_save": true
        },
        "id": "-Tt8jWVgvqKm",
        "outputId": "bfe6732e-e53a-4162-9d26-6e7beeba497e"
      },
      "source": [
        "model_CF100.summary()"
      ],
      "execution_count": null,
      "outputs": [
        {
          "output_type": "stream",
          "text": [
            "Model: \"sequential_2\"\n",
            "_________________________________________________________________\n",
            "Layer (type)                 Output Shape              Param #   \n",
            "=================================================================\n",
            "Conv_1 (Conv2D)              (None, 32, 32, 32)        896       \n",
            "_________________________________________________________________\n",
            "max_pooling2d_2 (MaxPooling2 (None, 16, 16, 32)        0         \n",
            "_________________________________________________________________\n",
            "Conv_2 (Conv2D)              (None, 16, 16, 128)       36992     \n",
            "_________________________________________________________________\n",
            "max_pooling2d_3 (MaxPooling2 (None, 8, 8, 128)         0         \n",
            "_________________________________________________________________\n",
            "Conv_3 (Conv2D)              (None, 8, 8, 512)         590336    \n",
            "_________________________________________________________________\n",
            "global_average_pooling2d_1 ( (None, 512)               0         \n",
            "_________________________________________________________________\n",
            "dense_4 (Dense)              (None, 256)               131328    \n",
            "_________________________________________________________________\n",
            "dense_5 (Dense)              (None, 128)               32896     \n",
            "_________________________________________________________________\n",
            "dense_6 (Dense)              (None, 100)               12900     \n",
            "=================================================================\n",
            "Total params: 805,348\n",
            "Trainable params: 805,348\n",
            "Non-trainable params: 0\n",
            "_________________________________________________________________\n"
          ],
          "name": "stdout"
        }
      ]
    },
    {
      "cell_type": "code",
      "metadata": {
        "colab": {
          "background_save": true,
          "base_uri": "https://localhost:8080/",
          "height": 84
        },
        "id": "8jYVEtgJvBIe",
        "outputId": "5c3b880e-7fa1-4d2d-d708-35db3d626de6"
      },
      "source": [
        "score_train = model_2.evaluate(X_train, y_train)\n",
        "score_test = model_2.evaluate(X_test, y_test)\n",
        "\n",
        "print(f'Train Accuracy: {score_train[1]*100}')\n",
        "print(f'Test Accuracy: {score_test[1]*100}')"
      ],
      "execution_count": null,
      "outputs": [
        {
          "output_type": "stream",
          "text": [
            "1563/1563 [==============================] - 5s 3ms/step - loss: 1.1987 - categorical_accuracy: 0.5627\n",
            "313/313 [==============================] - 1s 3ms/step - loss: 1.2089 - categorical_accuracy: 0.5555\n",
            "Train Accuracy: 56.26800060272217\n",
            "Test Accuracy: 55.549997091293335\n"
          ],
          "name": "stdout"
        }
      ]
    },
    {
      "cell_type": "markdown",
      "metadata": {
        "id": "7G2pTHXGfnzl"
      },
      "source": [
        "使用 Layer Transfer 的注意事項\n",
        "1. 若目的不同 (如；分類總數不同)，則須重新定義不同的全連接層\n",
        "2. 若資料的輸入尺寸不同 (如：channel 數不同)，則也需針對輸入的部分調整"
      ]
    },
    {
      "cell_type": "markdown",
      "metadata": {
        "id": "6-CXv-J_lhB-"
      },
      "source": [
        "雖然這個模型看起來很隨便，但轉移學習的模型**差不多**都是這樣建立的，實際上， Keras 亦提供許多被證實有良好表現且訓練好 (pre-trained) 的模型，如:\n",
        "\n",
        "* Xception\n",
        "* VGG16\n",
        "* VGG19\n",
        "* ResNet50\n",
        "* InceptionV3\n",
        "* InceptionResNetV2\n",
        "* MobileNet\n",
        "* DenseNet\n",
        "* NASNet\n",
        "\n",
        "詳細的使用方式可參考 Keras Documentation: https://keras.io/applications/\n",
        "\n",
        "但使用這些模型進行轉移學習，**可能**需要 ``Sequential`` 以外寫法，以及更多神經網路的建構技巧。"
      ]
    },
    {
      "cell_type": "code",
      "metadata": {
        "colab": {
          "background_save": true
        },
        "id": "XVErcleXjv3R"
      },
      "source": [
        "from tensorflow.keras.applications.resnet50 import ResNet50"
      ],
      "execution_count": null,
      "outputs": []
    },
    {
      "cell_type": "code",
      "metadata": {
        "colab": {
          "background_save": true
        },
        "id": "N42q2ROQliX8",
        "outputId": "8297b3d7-fdc6-4ef3-e2af-af11ecd4e41c"
      },
      "source": [
        "model = ResNet50(weights='imagenet')"
      ],
      "execution_count": null,
      "outputs": [
        {
          "output_type": "stream",
          "text": [
            "Downloading data from https://storage.googleapis.com/tensorflow/keras-applications/resnet/resnet50_weights_tf_dim_ordering_tf_kernels.h5\n",
            "102973440/102967424 [==============================] - 1s 0us/step\n"
          ],
          "name": "stdout"
        }
      ]
    },
    {
      "cell_type": "code",
      "metadata": {
        "colab": {
          "background_save": true
        },
        "id": "tcxVPVZ5j0Fk"
      },
      "source": [
        ""
      ],
      "execution_count": null,
      "outputs": []
    },
    {
      "cell_type": "markdown",
      "metadata": {
        "id": "OSew6gi3goiy"
      },
      "source": [
        "## [NOT FINISHED] 遷移學習的實作，以 Class Activation Map (CAM) 為例"
      ]
    },
    {
      "cell_type": "code",
      "metadata": {
        "colab": {
          "background_save": true
        },
        "id": "9FViBYlTgfBG"
      },
      "source": [
        "FC_layers_new = [Dense(units=10, activation='softmax')]"
      ],
      "execution_count": null,
      "outputs": []
    },
    {
      "cell_type": "code",
      "metadata": {
        "colab": {
          "base_uri": "https://localhost:8080/",
          "height": 386
        },
        "id": "YzGxm7Qyg3nY",
        "outputId": "8deb2388-55c5-4f32-c46b-24aea0fc1fe0"
      },
      "source": [
        "classifier = Sequential(CNN_layers+FC_layers_new)\n",
        "classifier.compile(loss='categorical_crossentropy', \n",
        "                   optimizer=Adam(),\n",
        "                   metrics=['categorical_accuracy'])\n",
        "classifier.summary()"
      ],
      "execution_count": null,
      "outputs": [
        {
          "output_type": "stream",
          "text": [
            "Model: \"sequential_9\"\n",
            "_________________________________________________________________\n",
            "Layer (type)                 Output Shape              Param #   \n",
            "=================================================================\n",
            "Conv_1 (Conv2D)              (None, 32, 32, 32)        896       \n",
            "_________________________________________________________________\n",
            "max_pooling2d_4 (MaxPooling2 (None, 16, 16, 32)        0         \n",
            "_________________________________________________________________\n",
            "Conv_2 (Conv2D)              (None, 16, 16, 128)       36992     \n",
            "_________________________________________________________________\n",
            "max_pooling2d_5 (MaxPooling2 (None, 8, 8, 128)         0         \n",
            "_________________________________________________________________\n",
            "Conv_3 (Conv2D)              (None, 8, 8, 512)         590336    \n",
            "_________________________________________________________________\n",
            "global_average_pooling2d_2 ( (None, 512)               0         \n",
            "_________________________________________________________________\n",
            "dense_12 (Dense)             (None, 10)                5130      \n",
            "=================================================================\n",
            "Total params: 633,354\n",
            "Trainable params: 633,354\n",
            "Non-trainable params: 0\n",
            "_________________________________________________________________\n"
          ],
          "name": "stdout"
        }
      ]
    },
    {
      "cell_type": "code",
      "metadata": {
        "colab": {
          "background_save": true
        },
        "id": "fVvocZANhKsv",
        "outputId": "8087c1d2-4dd0-43b7-d01e-d513b4b7e1cf"
      },
      "source": [
        "model.fit(X_train, y_train, \n",
        "          batch_size=128, \n",
        "          epochs=20,\n",
        "          validation_data=(X_test, y_test)\n",
        "          )"
      ],
      "execution_count": null,
      "outputs": [
        {
          "output_type": "error",
          "ename": "RuntimeError",
          "evalue": "ignored",
          "traceback": [
            "\u001b[0;31m---------------------------------------------------------------------------\u001b[0m",
            "\u001b[0;31mRuntimeError\u001b[0m                              Traceback (most recent call last)",
            "\u001b[0;32m<ipython-input-34-08605df8750b>\u001b[0m in \u001b[0;36m<module>\u001b[0;34m()\u001b[0m\n\u001b[1;32m      2\u001b[0m           \u001b[0mbatch_size\u001b[0m\u001b[0;34m=\u001b[0m\u001b[0;36m128\u001b[0m\u001b[0;34m,\u001b[0m\u001b[0;34m\u001b[0m\u001b[0;34m\u001b[0m\u001b[0m\n\u001b[1;32m      3\u001b[0m           \u001b[0mepochs\u001b[0m\u001b[0;34m=\u001b[0m\u001b[0;36m20\u001b[0m\u001b[0;34m,\u001b[0m\u001b[0;34m\u001b[0m\u001b[0;34m\u001b[0m\u001b[0m\n\u001b[0;32m----> 4\u001b[0;31m           \u001b[0mvalidation_data\u001b[0m\u001b[0;34m=\u001b[0m\u001b[0;34m(\u001b[0m\u001b[0mX_test\u001b[0m\u001b[0;34m,\u001b[0m \u001b[0my_test\u001b[0m\u001b[0;34m)\u001b[0m\u001b[0;34m\u001b[0m\u001b[0;34m\u001b[0m\u001b[0m\n\u001b[0m\u001b[1;32m      5\u001b[0m           )\n",
            "\u001b[0;32m/usr/local/lib/python3.7/dist-packages/tensorflow/python/keras/engine/training.py\u001b[0m in \u001b[0;36mfit\u001b[0;34m(self, x, y, batch_size, epochs, verbose, callbacks, validation_split, validation_data, shuffle, class_weight, sample_weight, initial_epoch, steps_per_epoch, validation_steps, validation_batch_size, validation_freq, max_queue_size, workers, use_multiprocessing)\u001b[0m\n\u001b[1;32m   1103\u001b[0m     \u001b[0;31m# Legacy graph support is contained in `training_v1.Model`.\u001b[0m\u001b[0;34m\u001b[0m\u001b[0;34m\u001b[0m\u001b[0;34m\u001b[0m\u001b[0m\n\u001b[1;32m   1104\u001b[0m     \u001b[0mversion_utils\u001b[0m\u001b[0;34m.\u001b[0m\u001b[0mdisallow_legacy_graph\u001b[0m\u001b[0;34m(\u001b[0m\u001b[0;34m'Model'\u001b[0m\u001b[0;34m,\u001b[0m \u001b[0;34m'fit'\u001b[0m\u001b[0;34m)\u001b[0m\u001b[0;34m\u001b[0m\u001b[0;34m\u001b[0m\u001b[0m\n\u001b[0;32m-> 1105\u001b[0;31m     \u001b[0mself\u001b[0m\u001b[0;34m.\u001b[0m\u001b[0m_assert_compile_was_called\u001b[0m\u001b[0;34m(\u001b[0m\u001b[0;34m)\u001b[0m\u001b[0;34m\u001b[0m\u001b[0;34m\u001b[0m\u001b[0m\n\u001b[0m\u001b[1;32m   1106\u001b[0m     \u001b[0mself\u001b[0m\u001b[0;34m.\u001b[0m\u001b[0m_check_call_args\u001b[0m\u001b[0;34m(\u001b[0m\u001b[0;34m'fit'\u001b[0m\u001b[0;34m)\u001b[0m\u001b[0;34m\u001b[0m\u001b[0;34m\u001b[0m\u001b[0m\n\u001b[1;32m   1107\u001b[0m     \u001b[0m_disallow_inside_tf_function\u001b[0m\u001b[0;34m(\u001b[0m\u001b[0;34m'fit'\u001b[0m\u001b[0;34m)\u001b[0m\u001b[0;34m\u001b[0m\u001b[0;34m\u001b[0m\u001b[0m\n",
            "\u001b[0;32m/usr/local/lib/python3.7/dist-packages/tensorflow/python/keras/engine/training.py\u001b[0m in \u001b[0;36m_assert_compile_was_called\u001b[0;34m(self)\u001b[0m\n\u001b[1;32m   2691\u001b[0m     \u001b[0;31m# (i.e. whether the model is built and its inputs/outputs are set).\u001b[0m\u001b[0;34m\u001b[0m\u001b[0;34m\u001b[0m\u001b[0;34m\u001b[0m\u001b[0m\n\u001b[1;32m   2692\u001b[0m     \u001b[0;32mif\u001b[0m \u001b[0;32mnot\u001b[0m \u001b[0mself\u001b[0m\u001b[0;34m.\u001b[0m\u001b[0m_is_compiled\u001b[0m\u001b[0;34m:\u001b[0m\u001b[0;34m\u001b[0m\u001b[0;34m\u001b[0m\u001b[0m\n\u001b[0;32m-> 2693\u001b[0;31m       raise RuntimeError('You must compile your model before '\n\u001b[0m\u001b[1;32m   2694\u001b[0m                          \u001b[0;34m'training/testing. '\u001b[0m\u001b[0;34m\u001b[0m\u001b[0;34m\u001b[0m\u001b[0m\n\u001b[1;32m   2695\u001b[0m                          'Use `model.compile(optimizer, loss)`.')\n",
            "\u001b[0;31mRuntimeError\u001b[0m: You must compile your model before training/testing. Use `model.compile(optimizer, loss)`."
          ]
        }
      ]
    },
    {
      "cell_type": "code",
      "metadata": {
        "colab": {
          "background_save": true
        },
        "id": "pN6CEmmehLgh"
      },
      "source": [
        "CAM_model = Sequential(CNN_layers[:-1]+FC_layers_new)\n",
        "CAM_model.compile(loss='categorical_crossentropy', \n",
        "                  optimizer=Adam(),\n",
        "                  metrics=['categorical_accuracy'])\n",
        "CAM_model.summary()"
      ],
      "execution_count": null,
      "outputs": []
    },
    {
      "cell_type": "code",
      "metadata": {
        "colab": {
          "background_save": true
        },
        "id": "xzMhzBmihx0L"
      },
      "source": [
        "from PIL import Image\n",
        "CAM = CAM_model.predict(X_train[idx:idx+1])[0, : ,: , y_sample]\n",
        "CAM.resize(X_sample.shape)\n",
        "\n",
        "plt.subplot(1, 2, 1)\n",
        "plt.imshow(X_sample)\n",
        "\n",
        "plt.subplot(1, 2, 2)\n",
        "plt.imshow(np.clip(CAM, 0.1, 1), 'gray_r')"
      ],
      "execution_count": null,
      "outputs": []
    },
    {
      "cell_type": "code",
      "metadata": {
        "colab": {
          "background_save": true
        },
        "id": "DM2fZGEAkSLe"
      },
      "source": [
        "np.clip(CAM, 0.1, 1)"
      ],
      "execution_count": null,
      "outputs": []
    },
    {
      "cell_type": "code",
      "metadata": {
        "colab": {
          "background_save": true
        },
        "id": "2GyElQZBifTS"
      },
      "source": [
        "class_intensity = FC_layers_new[0].get_weights()[0][:, y_sample]"
      ],
      "execution_count": null,
      "outputs": []
    },
    {
      "cell_type": "code",
      "metadata": {
        "colab": {
          "base_uri": "https://localhost:8080/",
          "height": 34
        },
        "id": "pvt5gYO-jIPO",
        "outputId": "f5dad685-2978-41b7-bfa4-8e3341a75e60"
      },
      "source": [
        "CAM_model.predict(X_train[idx:idx+1]).shape"
      ],
      "execution_count": null,
      "outputs": [
        {
          "output_type": "execute_result",
          "data": {
            "text/plain": [
              "(1, 8, 8, 10)"
            ]
          },
          "metadata": {
            "tags": []
          },
          "execution_count": 88
        }
      ]
    }
  ]
}