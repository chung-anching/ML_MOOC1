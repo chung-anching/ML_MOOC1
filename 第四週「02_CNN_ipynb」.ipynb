{
  "nbformat": 4,
  "nbformat_minor": 0,
  "metadata": {
    "kernelspec": {
      "display_name": "Python 3",
      "language": "python",
      "name": "python3"
    },
    "language_info": {
      "codemirror_mode": {
        "name": "ipython",
        "version": 3
      },
      "file_extension": ".py",
      "mimetype": "text/x-python",
      "name": "python",
      "nbconvert_exporter": "python",
      "pygments_lexer": "ipython3",
      "version": "3.7.3"
    },
    "colab": {
      "name": "第四週「02 CNN.ipynb」",
      "provenance": []
    },
    "accelerator": "GPU",
    "widgets": {
      "application/vnd.jupyter.widget-state+json": {
        "1c6723d07619493b98e36eaeb0da3457": {
          "model_module": "@jupyter-widgets/controls",
          "model_name": "VBoxModel",
          "state": {
            "_view_name": "VBoxView",
            "_dom_classes": [
              "widget-interact"
            ],
            "_model_name": "VBoxModel",
            "_view_module": "@jupyter-widgets/controls",
            "_model_module_version": "1.5.0",
            "_view_count": null,
            "_view_module_version": "1.5.0",
            "box_style": "",
            "layout": "IPY_MODEL_29f5f127438b4daaabac53117b44a40e",
            "_model_module": "@jupyter-widgets/controls",
            "children": [
              "IPY_MODEL_977e358387674dce8139d8eb3b4b61d2",
              "IPY_MODEL_498ac8b69a644273be2a11bfb5421bd6",
              "IPY_MODEL_42c29dac9aea4265bfb1e8d9ac21d860"
            ]
          }
        },
        "29f5f127438b4daaabac53117b44a40e": {
          "model_module": "@jupyter-widgets/base",
          "model_name": "LayoutModel",
          "state": {
            "_view_name": "LayoutView",
            "grid_template_rows": null,
            "right": null,
            "justify_content": null,
            "_view_module": "@jupyter-widgets/base",
            "overflow": null,
            "_model_module_version": "1.2.0",
            "_view_count": null,
            "flex_flow": null,
            "width": null,
            "min_width": null,
            "border": null,
            "align_items": null,
            "bottom": null,
            "_model_module": "@jupyter-widgets/base",
            "top": null,
            "grid_column": null,
            "overflow_y": null,
            "overflow_x": null,
            "grid_auto_flow": null,
            "grid_area": null,
            "grid_template_columns": null,
            "flex": null,
            "_model_name": "LayoutModel",
            "justify_items": null,
            "grid_row": null,
            "max_height": null,
            "align_content": null,
            "visibility": null,
            "align_self": null,
            "height": null,
            "min_height": null,
            "padding": null,
            "grid_auto_rows": null,
            "grid_gap": null,
            "max_width": null,
            "order": null,
            "_view_module_version": "1.2.0",
            "grid_template_areas": null,
            "object_position": null,
            "object_fit": null,
            "grid_auto_columns": null,
            "margin": null,
            "display": null,
            "left": null
          }
        },
        "977e358387674dce8139d8eb3b4b61d2": {
          "model_module": "@jupyter-widgets/controls",
          "model_name": "IntSliderModel",
          "state": {
            "_view_name": "IntSliderView",
            "style": "IPY_MODEL_d125669f6cd34208a2e078b8996acc6a",
            "_dom_classes": [],
            "description": "n",
            "step": 1,
            "_model_name": "IntSliderModel",
            "orientation": "horizontal",
            "max": 9999,
            "_view_module": "@jupyter-widgets/controls",
            "_model_module_version": "1.5.0",
            "value": 9435,
            "_view_count": null,
            "disabled": false,
            "_view_module_version": "1.5.0",
            "min": 0,
            "continuous_update": true,
            "readout_format": "d",
            "description_tooltip": null,
            "readout": true,
            "_model_module": "@jupyter-widgets/controls",
            "layout": "IPY_MODEL_f8480bdc2ec742558fbc9267f4efa863"
          }
        },
        "498ac8b69a644273be2a11bfb5421bd6": {
          "model_module": "@jupyter-widgets/controls",
          "model_name": "ButtonModel",
          "state": {
            "_view_name": "ButtonView",
            "style": "IPY_MODEL_943fed24a67d402da44207e3f884a5e0",
            "_dom_classes": [],
            "description": "Run Interact",
            "_model_name": "ButtonModel",
            "button_style": "",
            "_view_module": "@jupyter-widgets/controls",
            "_model_module_version": "1.5.0",
            "tooltip": "",
            "_view_count": null,
            "disabled": false,
            "_view_module_version": "1.5.0",
            "layout": "IPY_MODEL_d346b993808342439664f695cf93af53",
            "_model_module": "@jupyter-widgets/controls",
            "icon": ""
          }
        },
        "42c29dac9aea4265bfb1e8d9ac21d860": {
          "model_module": "@jupyter-widgets/output",
          "model_name": "OutputModel",
          "state": {
            "_view_name": "OutputView",
            "msg_id": "",
            "_dom_classes": [],
            "_model_name": "OutputModel",
            "outputs": [
              {
                "output_type": "stream",
                "metadata": {
                  "tags": []
                },
                "text": "我可愛的 CNN 預測是 0\n",
                "stream": "stdout"
              },
              {
                "output_type": "display_data",
                "metadata": {
                  "tags": [],
                  "needs_background": "light"
                },
                "image/png": "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\n",
                "text/plain": "<Figure size 432x288 with 1 Axes>"
              }
            ],
            "_view_module": "@jupyter-widgets/output",
            "_model_module_version": "1.0.0",
            "_view_count": null,
            "_view_module_version": "1.0.0",
            "layout": "IPY_MODEL_1e94b78afe884be59870d935bf023eb8",
            "_model_module": "@jupyter-widgets/output"
          }
        },
        "d125669f6cd34208a2e078b8996acc6a": {
          "model_module": "@jupyter-widgets/controls",
          "model_name": "SliderStyleModel",
          "state": {
            "_view_name": "StyleView",
            "handle_color": null,
            "_model_name": "SliderStyleModel",
            "description_width": "",
            "_view_module": "@jupyter-widgets/base",
            "_model_module_version": "1.5.0",
            "_view_count": null,
            "_view_module_version": "1.2.0",
            "_model_module": "@jupyter-widgets/controls"
          }
        },
        "f8480bdc2ec742558fbc9267f4efa863": {
          "model_module": "@jupyter-widgets/base",
          "model_name": "LayoutModel",
          "state": {
            "_view_name": "LayoutView",
            "grid_template_rows": null,
            "right": null,
            "justify_content": null,
            "_view_module": "@jupyter-widgets/base",
            "overflow": null,
            "_model_module_version": "1.2.0",
            "_view_count": null,
            "flex_flow": null,
            "width": null,
            "min_width": null,
            "border": null,
            "align_items": null,
            "bottom": null,
            "_model_module": "@jupyter-widgets/base",
            "top": null,
            "grid_column": null,
            "overflow_y": null,
            "overflow_x": null,
            "grid_auto_flow": null,
            "grid_area": null,
            "grid_template_columns": null,
            "flex": null,
            "_model_name": "LayoutModel",
            "justify_items": null,
            "grid_row": null,
            "max_height": null,
            "align_content": null,
            "visibility": null,
            "align_self": null,
            "height": null,
            "min_height": null,
            "padding": null,
            "grid_auto_rows": null,
            "grid_gap": null,
            "max_width": null,
            "order": null,
            "_view_module_version": "1.2.0",
            "grid_template_areas": null,
            "object_position": null,
            "object_fit": null,
            "grid_auto_columns": null,
            "margin": null,
            "display": null,
            "left": null
          }
        },
        "943fed24a67d402da44207e3f884a5e0": {
          "model_module": "@jupyter-widgets/controls",
          "model_name": "ButtonStyleModel",
          "state": {
            "_view_name": "StyleView",
            "_model_name": "ButtonStyleModel",
            "_view_module": "@jupyter-widgets/base",
            "_model_module_version": "1.5.0",
            "_view_count": null,
            "button_color": null,
            "font_weight": "",
            "_view_module_version": "1.2.0",
            "_model_module": "@jupyter-widgets/controls"
          }
        },
        "d346b993808342439664f695cf93af53": {
          "model_module": "@jupyter-widgets/base",
          "model_name": "LayoutModel",
          "state": {
            "_view_name": "LayoutView",
            "grid_template_rows": null,
            "right": null,
            "justify_content": null,
            "_view_module": "@jupyter-widgets/base",
            "overflow": null,
            "_model_module_version": "1.2.0",
            "_view_count": null,
            "flex_flow": null,
            "width": null,
            "min_width": null,
            "border": null,
            "align_items": null,
            "bottom": null,
            "_model_module": "@jupyter-widgets/base",
            "top": null,
            "grid_column": null,
            "overflow_y": null,
            "overflow_x": null,
            "grid_auto_flow": null,
            "grid_area": null,
            "grid_template_columns": null,
            "flex": null,
            "_model_name": "LayoutModel",
            "justify_items": null,
            "grid_row": null,
            "max_height": null,
            "align_content": null,
            "visibility": null,
            "align_self": null,
            "height": null,
            "min_height": null,
            "padding": null,
            "grid_auto_rows": null,
            "grid_gap": null,
            "max_width": null,
            "order": null,
            "_view_module_version": "1.2.0",
            "grid_template_areas": null,
            "object_position": null,
            "object_fit": null,
            "grid_auto_columns": null,
            "margin": null,
            "display": null,
            "left": null
          }
        },
        "1e94b78afe884be59870d935bf023eb8": {
          "model_module": "@jupyter-widgets/base",
          "model_name": "LayoutModel",
          "state": {
            "_view_name": "LayoutView",
            "grid_template_rows": null,
            "right": null,
            "justify_content": null,
            "_view_module": "@jupyter-widgets/base",
            "overflow": null,
            "_model_module_version": "1.2.0",
            "_view_count": null,
            "flex_flow": null,
            "width": null,
            "min_width": null,
            "border": null,
            "align_items": null,
            "bottom": null,
            "_model_module": "@jupyter-widgets/base",
            "top": null,
            "grid_column": null,
            "overflow_y": null,
            "overflow_x": null,
            "grid_auto_flow": null,
            "grid_area": null,
            "grid_template_columns": null,
            "flex": null,
            "_model_name": "LayoutModel",
            "justify_items": null,
            "grid_row": null,
            "max_height": null,
            "align_content": null,
            "visibility": null,
            "align_self": null,
            "height": null,
            "min_height": null,
            "padding": null,
            "grid_auto_rows": null,
            "grid_gap": null,
            "max_width": null,
            "order": null,
            "_view_module_version": "1.2.0",
            "grid_template_areas": null,
            "object_position": null,
            "object_fit": null,
            "grid_auto_columns": null,
            "margin": null,
            "display": null,
            "left": null
          }
        }
      }
    }
  },
  "cells": [
    {
      "cell_type": "code",
      "metadata": {
        "id": "UZC-DLRUvfjb"
      },
      "source": [
        "%matplotlib inline\n",
        "\n",
        "import numpy as np\n",
        "import matplotlib.pyplot as plt\n",
        "import pandas as pd"
      ],
      "execution_count": null,
      "outputs": []
    },
    {
      "cell_type": "code",
      "metadata": {
        "id": "Wa3hIs8Uvfjd"
      },
      "source": [
        "from tensorflow.keras.utils import to_categorical\n",
        "from tensorflow.keras.models import Sequential\n",
        "from tensorflow.keras.layers import Conv2D, MaxPooling2D  #跟cnn有關\n",
        "from tensorflow.keras.layers import Dense, Flatten\n",
        "from tensorflow.keras.optimizers import SGD"
      ],
      "execution_count": null,
      "outputs": []
    },
    {
      "cell_type": "markdown",
      "metadata": {
        "id": "qs57LWEhvfjd"
      },
      "source": [
        "### 1. 讀入 MNSIT 數據集"
      ]
    },
    {
      "cell_type": "code",
      "metadata": {
        "id": "zFmiO6vlvfje"
      },
      "source": [
        "from tensorflow.keras.datasets import mnist"
      ],
      "execution_count": null,
      "outputs": []
    },
    {
      "cell_type": "code",
      "metadata": {
        "id": "pEtRFAvavfje",
        "colab": {
          "base_uri": "https://localhost:8080/"
        },
        "outputId": "684920ad-15dc-4634-a771-e05657d8a3d4"
      },
      "source": [
        "(x_train, y_train), (x_test, y_test) = mnist.load_data()"
      ],
      "execution_count": null,
      "outputs": [
        {
          "output_type": "stream",
          "text": [
            "Downloading data from https://storage.googleapis.com/tensorflow/tf-keras-datasets/mnist.npz\n",
            "11493376/11490434 [==============================] - 0s 0us/step\n"
          ],
          "name": "stdout"
        }
      ]
    },
    {
      "cell_type": "markdown",
      "metadata": {
        "id": "arTyF-1rvfje"
      },
      "source": [
        "### 2. 資料整理"
      ]
    },
    {
      "cell_type": "markdown",
      "metadata": {
        "id": "s54nLBrkvfje"
      },
      "source": [
        "### Channel\n",
        "\n",
        "CNN 要注意一張圖有多少個 channel, 開始我們因為只有灰階, 所以只有一個 channel。因此我們要轉一下我們的資料格式:\n",
        "\n",
        "    (28,28) --> (28, 28, 1)"
      ]
    },
    {
      "cell_type": "code",
      "metadata": {
        "id": "pN2or7Sivfjf"
      },
      "source": [
        "x_train = x_train.reshape(60000, 28, 28, 1) / 255  #1代表只有一張矩陣(灰階) (彩色圖片有3個channel(矩陣))"
      ],
      "execution_count": null,
      "outputs": []
    },
    {
      "cell_type": "code",
      "metadata": {
        "id": "ihFfxQlGvfjf"
      },
      "source": [
        "x_test = x_test.reshape(10000, 28, 28, 1) / 255"
      ],
      "execution_count": null,
      "outputs": []
    },
    {
      "cell_type": "code",
      "metadata": {
        "id": "12PyKUlGvfjg"
      },
      "source": [
        "y_train = to_categorical(y_train, 10)\n",
        "y_test = to_categorical(y_test, 10)"
      ],
      "execution_count": null,
      "outputs": []
    },
    {
      "cell_type": "markdown",
      "metadata": {
        "id": "UxPqNQOpvfjg"
      },
      "source": [
        "### 3. step 1: 打造函數學習機 (CNN)\n",
        "* 輸入28*28的矩陣\n",
        "* 做了3次covolution\n",
        "* flatten(拉平)\n",
        "* 做Dense\n",
        "* 初初成10維向量"
      ]
    },
    {
      "cell_type": "code",
      "metadata": {
        "id": "kJVS56Zqvfjg"
      },
      "source": [
        "model = Sequential()"
      ],
      "execution_count": null,
      "outputs": []
    },
    {
      "cell_type": "code",
      "metadata": {
        "id": "tX_WXB3Mvfjh"
      },
      "source": [
        "#加一個cnn的層\n",
        "model.add(Conv2D(16, (3,3), padding='same',          #16個filter，大小3*3，記分板大小跟原圖一樣大\n",
        "                input_shape=(28,28,1),      #告訴她input的樣子\n",
        "                activation='relu'))       #激發程式的種類"
      ],
      "execution_count": null,
      "outputs": []
    },
    {
      "cell_type": "code",
      "metadata": {
        "id": "IYnKuxsxvfjh"
      },
      "source": [
        "model.add(MaxPooling2D(pool_size=(2,2)))    #加上pooling層"
      ],
      "execution_count": null,
      "outputs": []
    },
    {
      "cell_type": "code",
      "metadata": {
        "id": "Xs0LJJvevfjh"
      },
      "source": [
        "#再加一個cnn的層\n",
        "model.add(Conv2D(32, (3,3), padding='same',        #filter個數16=>32\n",
        "                activation='relu'))"
      ],
      "execution_count": null,
      "outputs": []
    },
    {
      "cell_type": "code",
      "metadata": {
        "id": "1dJ0zoJgvfjh"
      },
      "source": [
        "model.add(MaxPooling2D(pool_size=(2,2)))"
      ],
      "execution_count": null,
      "outputs": []
    },
    {
      "cell_type": "code",
      "metadata": {
        "id": "Fk21DCRNvfjh"
      },
      "source": [
        "#再加一個cnn的層\n",
        "model.add(Conv2D(64, (3,3), padding='same',        #filter個數32=>64\n",
        "                activation='relu'))"
      ],
      "execution_count": null,
      "outputs": []
    },
    {
      "cell_type": "code",
      "metadata": {
        "id": "VoHm59_6vfjh"
      },
      "source": [
        "model.add(MaxPooling2D(pool_size=(2,2)))"
      ],
      "execution_count": null,
      "outputs": []
    },
    {
      "cell_type": "code",
      "metadata": {
        "id": "6TY4pKSSvfji"
      },
      "source": [
        "model.add(Flatten())    #接到標準神經網路之前要先flatten拉平"
      ],
      "execution_count": null,
      "outputs": []
    },
    {
      "cell_type": "code",
      "metadata": {
        "id": "B8gOxCtqvfji"
      },
      "source": [
        "model.add(Dense(54, activation='relu'))   #加上全連結的層fully connected(自己決定要幾個神經元:隨便選54)"
      ],
      "execution_count": null,
      "outputs": []
    },
    {
      "cell_type": "code",
      "metadata": {
        "id": "jWVnPX4xvfji"
      },
      "source": [
        "model.add(Dense(10, activation='softmax'))   #輸出10個數字:10個神經元；希望數字加起來是1:activation='softmax'"
      ],
      "execution_count": null,
      "outputs": []
    },
    {
      "cell_type": "markdown",
      "metadata": {
        "id": "r79GO5jDvfji"
      },
      "source": [
        "#### 看一下我們的神經網路"
      ]
    },
    {
      "cell_type": "code",
      "metadata": {
        "id": "m_VO5mbJvfji",
        "colab": {
          "base_uri": "https://localhost:8080/"
        },
        "outputId": "8a758869-6047-42c9-847c-e64367a6b8f2"
      },
      "source": [
        "model.summary()"
      ],
      "execution_count": null,
      "outputs": [
        {
          "output_type": "stream",
          "text": [
            "Model: \"sequential\"\n",
            "_________________________________________________________________\n",
            "Layer (type)                 Output Shape              Param #   \n",
            "=================================================================\n",
            "conv2d (Conv2D)              (None, 28, 28, 16)        160       \n",
            "_________________________________________________________________\n",
            "max_pooling2d (MaxPooling2D) (None, 14, 14, 16)        0         \n",
            "_________________________________________________________________\n",
            "conv2d_1 (Conv2D)            (None, 14, 14, 32)        4640      \n",
            "_________________________________________________________________\n",
            "max_pooling2d_1 (MaxPooling2 (None, 7, 7, 32)          0         \n",
            "_________________________________________________________________\n",
            "conv2d_2 (Conv2D)            (None, 7, 7, 64)          18496     \n",
            "_________________________________________________________________\n",
            "max_pooling2d_2 (MaxPooling2 (None, 3, 3, 64)          0         \n",
            "_________________________________________________________________\n",
            "flatten (Flatten)            (None, 576)               0         \n",
            "_________________________________________________________________\n",
            "dense (Dense)                (None, 54)                31158     \n",
            "_________________________________________________________________\n",
            "dense_1 (Dense)              (None, 10)                550       \n",
            "=================================================================\n",
            "Total params: 55,004\n",
            "Trainable params: 55,004\n",
            "Non-trainable params: 0\n",
            "_________________________________________________________________\n"
          ],
          "name": "stdout"
        }
      ]
    },
    {
      "cell_type": "markdown",
      "metadata": {
        "id": "BREsasCxvfjj"
      },
      "source": [
        "#### 組裝"
      ]
    },
    {
      "cell_type": "code",
      "metadata": {
        "id": "dYyAHpSZvfjj",
        "colab": {
          "base_uri": "https://localhost:8080/"
        },
        "outputId": "ca7b6f39-58cf-42b5-d238-97319f9c8aac"
      },
      "source": [
        "model.compile(loss='mse', optimizer=SGD(lr=0.087),\n",
        "             metrics=['accuracy'])"
      ],
      "execution_count": null,
      "outputs": [
        {
          "output_type": "stream",
          "text": [
            "/usr/local/lib/python3.7/dist-packages/tensorflow/python/keras/optimizer_v2/optimizer_v2.py:375: UserWarning: The `lr` argument is deprecated, use `learning_rate` instead.\n",
            "  \"The `lr` argument is deprecated, use `learning_rate` instead.\")\n"
          ],
          "name": "stderr"
        }
      ]
    },
    {
      "cell_type": "markdown",
      "metadata": {
        "id": "NVJHRG9_vfjk"
      },
      "source": [
        "### 4. step 2: fit"
      ]
    },
    {
      "cell_type": "code",
      "metadata": {
        "scrolled": true,
        "id": "FPWql0QKvfjk",
        "colab": {
          "base_uri": "https://localhost:8080/"
        },
        "outputId": "be9eb32f-e1cb-4fcc-c716-80c785b2f0cd"
      },
      "source": [
        "model.fit(x_train, y_train, batch_size=100, epochs=10)  #訓練她 每做100次就檢討 epochs=10 :學10次 "
      ],
      "execution_count": null,
      "outputs": [
        {
          "output_type": "stream",
          "text": [
            "Epoch 1/10\n",
            "1200/1200 [==============================] - 4s 3ms/step - loss: 0.0060 - accuracy: 0.9620\n",
            "Epoch 2/10\n",
            "1200/1200 [==============================] - 4s 3ms/step - loss: 0.0051 - accuracy: 0.9673\n",
            "Epoch 3/10\n",
            "1200/1200 [==============================] - 4s 3ms/step - loss: 0.0046 - accuracy: 0.9713\n",
            "Epoch 4/10\n",
            "1200/1200 [==============================] - 4s 3ms/step - loss: 0.0042 - accuracy: 0.9732\n",
            "Epoch 5/10\n",
            "1200/1200 [==============================] - 4s 3ms/step - loss: 0.0038 - accuracy: 0.9762\n",
            "Epoch 6/10\n",
            "1200/1200 [==============================] - 4s 3ms/step - loss: 0.0036 - accuracy: 0.9775\n",
            "Epoch 7/10\n",
            "1200/1200 [==============================] - 4s 3ms/step - loss: 0.0033 - accuracy: 0.9790\n",
            "Epoch 8/10\n",
            "1200/1200 [==============================] - 4s 3ms/step - loss: 0.0031 - accuracy: 0.9808\n",
            "Epoch 9/10\n",
            "1200/1200 [==============================] - 4s 3ms/step - loss: 0.0030 - accuracy: 0.9814\n",
            "Epoch 10/10\n",
            "1200/1200 [==============================] - 4s 3ms/step - loss: 0.0028 - accuracy: 0.9818\n"
          ],
          "name": "stdout"
        },
        {
          "output_type": "execute_result",
          "data": {
            "text/plain": [
              "<tensorflow.python.keras.callbacks.History at 0x7f7d8232b9d0>"
            ]
          },
          "metadata": {
            "tags": []
          },
          "execution_count": 28
        }
      ]
    },
    {
      "cell_type": "markdown",
      "metadata": {
        "id": "VNyuSlblvfjk"
      },
      "source": [
        "### Step 3. 預測"
      ]
    },
    {
      "cell_type": "code",
      "metadata": {
        "id": "dkYkWxkdvfjk",
        "colab": {
          "base_uri": "https://localhost:8080/"
        },
        "outputId": "d1257103-0e51-4672-9923-11a4ff7acbfd"
      },
      "source": [
        "result = model.predict_classes(x_test)"
      ],
      "execution_count": null,
      "outputs": [
        {
          "output_type": "stream",
          "text": [
            "/usr/local/lib/python3.7/dist-packages/tensorflow/python/keras/engine/sequential.py:455: UserWarning: `model.predict_classes()` is deprecated and will be removed after 2021-01-01. Please use instead:* `np.argmax(model.predict(x), axis=-1)`,   if your model does multi-class classification   (e.g. if it uses a `softmax` last-layer activation).* `(model.predict(x) > 0.5).astype(\"int32\")`,   if your model does binary classification   (e.g. if it uses a `sigmoid` last-layer activation).\n",
            "  warnings.warn('`model.predict_classes()` is deprecated and '\n"
          ],
          "name": "stderr"
        }
      ]
    },
    {
      "cell_type": "markdown",
      "metadata": {
        "id": "krVQYxfDvfjk"
      },
      "source": [
        "### 看看測試資料表現如何"
      ]
    },
    {
      "cell_type": "code",
      "metadata": {
        "id": "QSC5_Ef0vfjl",
        "colab": {
          "base_uri": "https://localhost:8080/"
        },
        "outputId": "f4db3625-397f-4423-b244-ef403529c220"
      },
      "source": [
        "loss, acc = model.evaluate(x_test, y_test)"
      ],
      "execution_count": null,
      "outputs": [
        {
          "output_type": "stream",
          "text": [
            "313/313 [==============================] - 1s 2ms/step - loss: 0.0052 - accuracy: 0.9674\n"
          ],
          "name": "stdout"
        }
      ]
    },
    {
      "cell_type": "code",
      "metadata": {
        "id": "O11EVGUJvfjl",
        "colab": {
          "base_uri": "https://localhost:8080/"
        },
        "outputId": "1b4c76f9-d9d8-43cf-8179-d42b9e64ba84"
      },
      "source": [
        "print(f'測試資料的正確率為 {acc*100:.2f}%')"
      ],
      "execution_count": null,
      "outputs": [
        {
          "output_type": "stream",
          "text": [
            "測試資料的正確率為 96.74%\n"
          ],
          "name": "stdout"
        }
      ]
    },
    {
      "cell_type": "code",
      "metadata": {
        "id": "p6d_UVo1vfjl"
      },
      "source": [
        "def my_predict(n):\n",
        "    print('我可愛的 CNN 預測是', result[n])\n",
        "    X = x_test[n].reshape(28,28)\n",
        "    plt.imshow(X, cmap='Greys')"
      ],
      "execution_count": null,
      "outputs": []
    },
    {
      "cell_type": "code",
      "metadata": {
        "id": "ZGV9Bza2vfjl"
      },
      "source": [
        "from ipywidgets import interact_manual"
      ],
      "execution_count": null,
      "outputs": []
    },
    {
      "cell_type": "code",
      "metadata": {
        "id": "0g3-iPCEvfjl",
        "colab": {
          "base_uri": "https://localhost:8080/",
          "height": 347,
          "referenced_widgets": [
            "1c6723d07619493b98e36eaeb0da3457",
            "29f5f127438b4daaabac53117b44a40e",
            "977e358387674dce8139d8eb3b4b61d2",
            "498ac8b69a644273be2a11bfb5421bd6",
            "42c29dac9aea4265bfb1e8d9ac21d860",
            "d125669f6cd34208a2e078b8996acc6a",
            "f8480bdc2ec742558fbc9267f4efa863",
            "943fed24a67d402da44207e3f884a5e0",
            "d346b993808342439664f695cf93af53",
            "1e94b78afe884be59870d935bf023eb8"
          ]
        },
        "outputId": "f4ec1750-dddd-49e4-db06-b7377d35b06c"
      },
      "source": [
        "interact_manual(my_predict, n=(0, 9999));"
      ],
      "execution_count": null,
      "outputs": [
        {
          "output_type": "display_data",
          "data": {
            "application/vnd.jupyter.widget-view+json": {
              "model_id": "1c6723d07619493b98e36eaeb0da3457",
              "version_minor": 0,
              "version_major": 2
            },
            "text/plain": [
              "interactive(children=(IntSlider(value=4999, description='n', max=9999), Button(description='Run Interact', sty…"
            ]
          },
          "metadata": {
            "tags": []
          }
        }
      ]
    },
    {
      "cell_type": "markdown",
      "metadata": {
        "id": "ofi-l0KLvfjl"
      },
      "source": [
        "### 把我們的 model 存起來"
      ]
    },
    {
      "cell_type": "code",
      "metadata": {
        "id": "oOMPUmZ_vfjl"
      },
      "source": [
        "model.save('myCNNmodel.h5')"
      ],
      "execution_count": null,
      "outputs": []
    }
  ]
}